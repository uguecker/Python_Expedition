{
 "cells": [
  {
   "cell_type": "markdown",
   "metadata": {},
   "source": [
    "# Power Spectral Density - Matplotlib - Examples\n",
    "\n",
    "matplotlib.pyplot.psd - Plot the power spectral density. \n",
    "(https://matplotlib.org/3.1.1/api/_as_gen/matplotlib.pyplot.psd.html)\n",
    "\n",
    "<hr style=\"border:2px solid gray\"> </hr>\n",
    "History\n",
    "\n",
    "2020-06-16 ug\n",
    "\n",
    "2020-12-04 ug - adding comments and links\n",
    "\n",
    "<hr style=\"border:2px solid gray\"> </hr>\n",
    "todo:\n",
    "- work on the more complex example"
   ]
  },
  {
   "cell_type": "code",
   "execution_count": null,
   "metadata": {},
   "outputs": [],
   "source": [
    "%matplotlib inline"
   ]
  },
  {
   "cell_type": "markdown",
   "metadata": {},
   "source": [
    "\n",
    "# Psd Demo\n",
    "\n",
    "\n",
    "Plotting Power Spectral Density (PSD) in Matplotlib.\n",
    "\n",
    "The PSD is a common plot in the field of signal processing. NumPy has\n",
    "many useful libraries for computing a PSD. \n",
    "Below we demo a few examples\n",
    "of how this can be accomplished and visualized with Matplotlib.\n",
    "\n",
    "from: https://matplotlib.org/3.2.1/gallery/lines_bars_and_markers/psd_demo.html#sphx-glr-gallery-lines-bars-and-markers-psd-demo-py\n"
   ]
  },
  {
   "cell_type": "code",
   "execution_count": null,
   "metadata": {},
   "outputs": [],
   "source": [
    "import matplotlib.pyplot as plt\n",
    "import numpy as np\n",
    "import matplotlib.mlab as mlab\n",
    "import matplotlib.gridspec as gridspec"
   ]
  },
  {
   "cell_type": "markdown",
   "metadata": {},
   "source": [
    "### create a sine signal and adding some noise\n",
    "\n",
    "numpy.random.randn - Return a sample (or samples) from the “standard normal” distribution\n",
    "(https://numpy.org/doc/stable/reference/random/generated/numpy.random.randn.html)\n",
    "\n",
    "numpy.convolve - linear convolution of two one-dimensional sequences\n",
    "(https://numpy.org/doc/stable/reference/generated/numpy.convolve.html)"
   ]
  },
  {
   "cell_type": "code",
   "execution_count": null,
   "metadata": {},
   "outputs": [],
   "source": [
    "# Fixing random state for reproducibility\n",
    "np.random.seed(19680801)\n",
    "\n",
    "# create the time vector 't' from 0 to 10 seconds with a sampling time 'dt' of 0.01 seconds\n",
    "dt = 0.01\n",
    "t = np.arange(0, 10, dt)\n",
    "\n",
    "# create normal distributed noise signal 'r'  -> white noise - sampling points are inpedentent\n",
    "nse = np.random.randn(len(t))\n",
    "\n",
    "# create colored noise - make sampling points linear dependent by convolution with an impulse response\n",
    "r = np.exp(-t / 0.05)   # impulse response\n",
    "cnse = np.convolve(nse, r) * dt\n",
    "cnse = cnse[:len(t)]\n",
    "\n",
    "# sine signal with Amplitude\n",
    "sine_amplitude = 0.1\n",
    "sine_freqency = 1\n",
    "sine_signal = sine_amplitude * np.sin(2 * np.pi * sine_freqency * t)\n",
    "\n",
    "# sine signal with additional colored noise\n",
    "s = sine_signal + cnse"
   ]
  },
  {
   "cell_type": "markdown",
   "metadata": {},
   "source": [
    "### Plot time signals and power spectrum density\n",
    "\n",
    "matplotlib.pyplot.psd - Plot the power spectral density. \n",
    "(https://matplotlib.org/3.1.1/api/_as_gen/matplotlib.pyplot.psd.html)"
   ]
  },
  {
   "cell_type": "code",
   "execution_count": null,
   "metadata": {},
   "outputs": [],
   "source": [
    "plt.figure(figsize=(15,10))  # width, height\n",
    "\n",
    "plt.subplot(411)\n",
    "plt.plot(t, sine_signal,label='Sine signal')\n",
    "plt.grid(True)\n",
    "plt.legend()\n",
    "\n",
    "plt.subplot(412)\n",
    "plt.plot(t,nse,label='white noise')\n",
    "plt.plot(t,cnse, label='colored noise')\n",
    "plt.grid(True)\n",
    "plt.legend()\n",
    "\n",
    "plt.subplot(413)\n",
    "plt.plot(t, s, label='sine signal + colored noise')\n",
    "plt.grid(True)\n",
    "plt.legend()\n",
    "\n",
    "\n",
    "plt.subplot(414)\n",
    "# The power spectral density Pxx by Welch's average periodogram method. \n",
    "NFFT = 512   # segment length\n",
    "Fs = 1 / dt  # sampling frequency (samples per time unit).\n",
    "plt.psd(s, NFFT , Fs)\n",
    "\n",
    "plt.show()"
   ]
  },
  {
   "cell_type": "markdown",
   "metadata": {},
   "source": [
    "Compare this with the equivalent Matlab code to accomplish the same thing::\n",
    "\n",
    "    dt = 0.01;\n",
    "    t = [0:dt:10];\n",
    "    nse = randn(size(t));\n",
    "    r = exp(-t/0.05);\n",
    "    cnse = conv(nse, r)*dt;\n",
    "    cnse = cnse(1:length(t));\n",
    "    s = 0.1*sin(2*pi*t) + cnse;\n",
    "\n",
    "    subplot(211)\n",
    "    plot(t, s)\n",
    "    subplot(212)\n",
    "    psd(s, 512, 1/dt)"
   ]
  },
  {
   "cell_type": "markdown",
   "metadata": {},
   "source": [
    "## More complex examples\n",
    "\n",
    "### padding\n",
    "Below we'll show a slightly more complex example that demonstrates\n",
    "how padding affects the resulting PSD."
   ]
  },
  {
   "cell_type": "code",
   "execution_count": null,
   "metadata": {},
   "outputs": [],
   "source": [
    "dt = np.pi / 100.\n",
    "fs = 1. / dt\n",
    "t = np.arange(0, 8, dt)\n",
    "y = 10. * np.sin(2 * np.pi * 4 * t) + 5. * np.sin(2 * np.pi * 4.25 * t)\n",
    "y = y + np.random.randn(*t.shape)\n",
    "\n",
    "# Plot the raw time series\n",
    "fig = plt.figure(constrained_layout=True)\n",
    "gs = gridspec.GridSpec(2, 3, figure=fig)\n",
    "ax = fig.add_subplot(gs[0, :])\n",
    "ax.plot(t, y)\n",
    "ax.set_xlabel('time [s]')\n",
    "ax.set_ylabel('signal')\n",
    "\n",
    "# Plot the PSD with different amounts of zero padding. This uses the entire\n",
    "# time series at once\n",
    "ax2 = fig.add_subplot(gs[1, 0])\n",
    "ax2.psd(y, NFFT=len(t), pad_to=len(t), Fs=fs)\n",
    "ax2.psd(y, NFFT=len(t), pad_to=len(t) * 2, Fs=fs)\n",
    "ax2.psd(y, NFFT=len(t), pad_to=len(t) * 4, Fs=fs)\n",
    "plt.title('zero padding')\n",
    "\n",
    "# Plot the PSD with different block sizes, Zero pad to the length of the\n",
    "# original data sequence.\n",
    "ax3 = fig.add_subplot(gs[1, 1], sharex=ax2, sharey=ax2)\n",
    "ax3.psd(y, NFFT=len(t), pad_to=len(t), Fs=fs)\n",
    "ax3.psd(y, NFFT=len(t) // 2, pad_to=len(t), Fs=fs)\n",
    "ax3.psd(y, NFFT=len(t) // 4, pad_to=len(t), Fs=fs)\n",
    "ax3.set_ylabel('')\n",
    "plt.title('block size')\n",
    "\n",
    "# Plot the PSD with different amounts of overlap between blocks\n",
    "ax4 = fig.add_subplot(gs[1, 2], sharex=ax2, sharey=ax2)\n",
    "ax4.psd(y, NFFT=len(t) // 2, pad_to=len(t), noverlap=0, Fs=fs)\n",
    "ax4.psd(y, NFFT=len(t) // 2, pad_to=len(t),\n",
    "        noverlap=int(0.05 * len(t) / 2.), Fs=fs)\n",
    "ax4.psd(y, NFFT=len(t) // 2, pad_to=len(t),\n",
    "        noverlap=int(0.2 * len(t) / 2.), Fs=fs)\n",
    "ax4.set_ylabel('')\n",
    "plt.title('overlap')\n",
    "\n",
    "plt.show()"
   ]
  },
  {
   "cell_type": "markdown",
   "metadata": {},
   "source": [
    "### Scaling (Periodogram - Welch Method)\n",
    "\n",
    "This is a ported version of a MATLAB example from the signal\n",
    "processing toolbox that showed some difference at one time between\n",
    "Matplotlib's and MATLAB's scaling of the PSD.\n",
    "\n"
   ]
  },
  {
   "cell_type": "code",
   "execution_count": null,
   "metadata": {},
   "outputs": [],
   "source": [
    "fs = 1000\n",
    "t = np.linspace(0, 0.3, 301)\n",
    "A = np.array([2, 8]).reshape(-1, 1)\n",
    "f = np.array([150, 140]).reshape(-1, 1)\n",
    "xn = (A * np.sin(2 * np.pi * f * t)).sum(axis=0)\n",
    "xn += 5 * np.random.randn(*t.shape)\n",
    "\n",
    "fig, (ax0, ax1) = plt.subplots(ncols=2, constrained_layout=True)\n",
    "\n",
    "yticks = np.arange(-50, 30, 10)\n",
    "yrange = (yticks[0], yticks[-1])\n",
    "xticks = np.arange(0, 550, 100)\n",
    "\n",
    "ax0.psd(xn, NFFT=301, Fs=fs, window=mlab.window_none, pad_to=1024,\n",
    "        scale_by_freq=True)\n",
    "ax0.set_title('Periodogram')\n",
    "ax0.set_yticks(yticks)\n",
    "ax0.set_xticks(xticks)\n",
    "ax0.grid(True)\n",
    "ax0.set_ylim(yrange)\n",
    "\n",
    "ax1.psd(xn, NFFT=150, Fs=fs, window=mlab.window_none, pad_to=512, noverlap=75,\n",
    "        scale_by_freq=True)\n",
    "ax1.set_title('Welch')\n",
    "ax1.set_xticks(xticks)\n",
    "ax1.set_yticks(yticks)\n",
    "ax1.set_ylabel('')  # overwrite the y-label added by `psd`\n",
    "ax1.grid(True)\n",
    "ax1.set_ylim(yrange)\n",
    "\n",
    "plt.show()"
   ]
  },
  {
   "cell_type": "markdown",
   "metadata": {},
   "source": [
    "This is a ported version of a MATLAB example from the signal\n",
    "processing toolbox that showed some difference at one time between\n",
    "Matplotlib's and MATLAB's scaling of the PSD.\n",
    "\n",
    "It uses a complex signal so we can see that complex PSD's work properly.\n",
    "\n"
   ]
  },
  {
   "cell_type": "code",
   "execution_count": null,
   "metadata": {},
   "outputs": [],
   "source": [
    "prng = np.random.RandomState(19680801)  # to ensure reproducibility\n",
    "\n",
    "fs = 1000\n",
    "t = np.linspace(0, 0.3, 301)\n",
    "A = np.array([2, 8]).reshape(-1, 1)\n",
    "f = np.array([150, 140]).reshape(-1, 1)\n",
    "xn = (A * np.exp(2j * np.pi * f * t)).sum(axis=0) + 5 * prng.randn(*t.shape)\n",
    "\n",
    "fig, (ax0, ax1) = plt.subplots(ncols=2, constrained_layout=True)\n",
    "\n",
    "yticks = np.arange(-50, 30, 10)\n",
    "yrange = (yticks[0], yticks[-1])\n",
    "xticks = np.arange(-500, 550, 200)\n",
    "\n",
    "ax0.psd(xn, NFFT=301, Fs=fs, window=mlab.window_none, pad_to=1024,\n",
    "        scale_by_freq=True)\n",
    "ax0.set_title('Periodogram')\n",
    "ax0.set_yticks(yticks)\n",
    "ax0.set_xticks(xticks)\n",
    "ax0.grid(True)\n",
    "ax0.set_ylim(yrange)\n",
    "\n",
    "ax1.psd(xn, NFFT=150, Fs=fs, window=mlab.window_none, pad_to=512, noverlap=75,\n",
    "        scale_by_freq=True)\n",
    "ax1.set_title('Welch')\n",
    "ax1.set_xticks(xticks)\n",
    "ax1.set_yticks(yticks)\n",
    "ax1.set_ylabel('')  # overwrite the y-label added by `psd`\n",
    "ax1.grid(True)\n",
    "ax1.set_ylim(yrange)\n",
    "\n",
    "plt.show()"
   ]
  },
  {
   "cell_type": "code",
   "execution_count": null,
   "metadata": {},
   "outputs": [],
   "source": []
  }
 ],
 "metadata": {
  "kernelspec": {
   "display_name": "Python 3",
   "language": "python",
   "name": "python3"
  },
  "language_info": {
   "codemirror_mode": {
    "name": "ipython",
    "version": 3
   },
   "file_extension": ".py",
   "mimetype": "text/x-python",
   "name": "python",
   "nbconvert_exporter": "python",
   "pygments_lexer": "ipython3",
   "version": "3.7.7"
  }
 },
 "nbformat": 4,
 "nbformat_minor": 1
}
