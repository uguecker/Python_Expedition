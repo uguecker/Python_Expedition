{
 "cells": [
  {
   "cell_type": "markdown",
   "metadata": {},
   "source": [
    "# Power Spectral Density - Matplotlib - Examples\n",
    "\n",
    "2020-06-16 ug"
   ]
  },
  {
   "cell_type": "code",
   "execution_count": null,
   "metadata": {},
   "outputs": [],
   "source": [
    "%matplotlib inline"
   ]
  },
  {
   "cell_type": "markdown",
   "metadata": {},
   "source": [
    "\n",
    "# Psd Demo\n",
    "\n",
    "\n",
    "Plotting Power Spectral Density (PSD) in Matplotlib.\n",
    "\n",
    "The PSD is a common plot in the field of signal processing. NumPy has\n",
    "many useful libraries for computing a PSD. Below we demo a few examples\n",
    "of how this can be accomplished and visualized with Matplotlib.\n",
    "\n",
    "from: https://matplotlib.org/3.2.1/gallery/lines_bars_and_markers/psd_demo.html#sphx-glr-gallery-lines-bars-and-markers-psd-demo-py\n"
   ]
  },
  {
   "cell_type": "code",
   "execution_count": null,
   "metadata": {},
   "outputs": [],
   "source": [
    "import matplotlib.pyplot as plt\n",
    "import numpy as np\n",
    "import matplotlib.mlab as mlab\n",
    "import matplotlib.gridspec as gridspec\n",
    "\n",
    "# Fixing random state for reproducibility\n",
    "np.random.seed(19680801)\n",
    "\n",
    "dt = 0.01\n",
    "t = np.arange(0, 10, dt)\n",
    "nse = np.random.randn(len(t))\n",
    "r = np.exp(-t / 0.05)\n",
    "\n",
    "cnse = np.convolve(nse, r) * dt\n",
    "cnse = cnse[:len(t)]\n",
    "s = 0.1 * np.sin(2 * np.pi * t) + cnse\n",
    "\n",
    "plt.subplot(211)\n",
    "plt.plot(t, s)\n",
    "plt.subplot(212)\n",
    "plt.psd(s, 512, 1 / dt)\n",
    "\n",
    "plt.show()"
   ]
  },
  {
   "cell_type": "markdown",
   "metadata": {},
   "source": [
    "Compare this with the equivalent Matlab code to accomplish the same thing::\n",
    "\n",
    "    dt = 0.01;\n",
    "    t = [0:dt:10];\n",
    "    nse = randn(size(t));\n",
    "    r = exp(-t/0.05);\n",
    "    cnse = conv(nse, r)*dt;\n",
    "    cnse = cnse(1:length(t));\n",
    "    s = 0.1*sin(2*pi*t) + cnse;\n",
    "\n",
    "    subplot(211)\n",
    "    plot(t, s)\n",
    "    subplot(212)\n",
    "    psd(s, 512, 1/dt)\n",
    "\n",
    "Below we'll show a slightly more complex example that demonstrates\n",
    "how padding affects the resulting PSD.\n",
    "\n"
   ]
  },
  {
   "cell_type": "code",
   "execution_count": null,
   "metadata": {},
   "outputs": [],
   "source": [
    "dt = np.pi / 100.\n",
    "fs = 1. / dt\n",
    "t = np.arange(0, 8, dt)\n",
    "y = 10. * np.sin(2 * np.pi * 4 * t) + 5. * np.sin(2 * np.pi * 4.25 * t)\n",
    "y = y + np.random.randn(*t.shape)\n",
    "\n",
    "# Plot the raw time series\n",
    "fig = plt.figure(constrained_layout=True)\n",
    "gs = gridspec.GridSpec(2, 3, figure=fig)\n",
    "ax = fig.add_subplot(gs[0, :])\n",
    "ax.plot(t, y)\n",
    "ax.set_xlabel('time [s]')\n",
    "ax.set_ylabel('signal')\n",
    "\n",
    "# Plot the PSD with different amounts of zero padding. This uses the entire\n",
    "# time series at once\n",
    "ax2 = fig.add_subplot(gs[1, 0])\n",
    "ax2.psd(y, NFFT=len(t), pad_to=len(t), Fs=fs)\n",
    "ax2.psd(y, NFFT=len(t), pad_to=len(t) * 2, Fs=fs)\n",
    "ax2.psd(y, NFFT=len(t), pad_to=len(t) * 4, Fs=fs)\n",
    "plt.title('zero padding')\n",
    "\n",
    "# Plot the PSD with different block sizes, Zero pad to the length of the\n",
    "# original data sequence.\n",
    "ax3 = fig.add_subplot(gs[1, 1], sharex=ax2, sharey=ax2)\n",
    "ax3.psd(y, NFFT=len(t), pad_to=len(t), Fs=fs)\n",
    "ax3.psd(y, NFFT=len(t) // 2, pad_to=len(t), Fs=fs)\n",
    "ax3.psd(y, NFFT=len(t) // 4, pad_to=len(t), Fs=fs)\n",
    "ax3.set_ylabel('')\n",
    "plt.title('block size')\n",
    "\n",
    "# Plot the PSD with different amounts of overlap between blocks\n",
    "ax4 = fig.add_subplot(gs[1, 2], sharex=ax2, sharey=ax2)\n",
    "ax4.psd(y, NFFT=len(t) // 2, pad_to=len(t), noverlap=0, Fs=fs)\n",
    "ax4.psd(y, NFFT=len(t) // 2, pad_to=len(t),\n",
    "        noverlap=int(0.05 * len(t) / 2.), Fs=fs)\n",
    "ax4.psd(y, NFFT=len(t) // 2, pad_to=len(t),\n",
    "        noverlap=int(0.2 * len(t) / 2.), Fs=fs)\n",
    "ax4.set_ylabel('')\n",
    "plt.title('overlap')\n",
    "\n",
    "plt.show()"
   ]
  },
  {
   "cell_type": "markdown",
   "metadata": {},
   "source": [
    "This is a ported version of a MATLAB example from the signal\n",
    "processing toolbox that showed some difference at one time between\n",
    "Matplotlib's and MATLAB's scaling of the PSD.\n",
    "\n"
   ]
  },
  {
   "cell_type": "code",
   "execution_count": null,
   "metadata": {},
   "outputs": [],
   "source": [
    "fs = 1000\n",
    "t = np.linspace(0, 0.3, 301)\n",
    "A = np.array([2, 8]).reshape(-1, 1)\n",
    "f = np.array([150, 140]).reshape(-1, 1)\n",
    "xn = (A * np.sin(2 * np.pi * f * t)).sum(axis=0)\n",
    "xn += 5 * np.random.randn(*t.shape)\n",
    "\n",
    "fig, (ax0, ax1) = plt.subplots(ncols=2, constrained_layout=True)\n",
    "\n",
    "yticks = np.arange(-50, 30, 10)\n",
    "yrange = (yticks[0], yticks[-1])\n",
    "xticks = np.arange(0, 550, 100)\n",
    "\n",
    "ax0.psd(xn, NFFT=301, Fs=fs, window=mlab.window_none, pad_to=1024,\n",
    "        scale_by_freq=True)\n",
    "ax0.set_title('Periodogram')\n",
    "ax0.set_yticks(yticks)\n",
    "ax0.set_xticks(xticks)\n",
    "ax0.grid(True)\n",
    "ax0.set_ylim(yrange)\n",
    "\n",
    "ax1.psd(xn, NFFT=150, Fs=fs, window=mlab.window_none, pad_to=512, noverlap=75,\n",
    "        scale_by_freq=True)\n",
    "ax1.set_title('Welch')\n",
    "ax1.set_xticks(xticks)\n",
    "ax1.set_yticks(yticks)\n",
    "ax1.set_ylabel('')  # overwrite the y-label added by `psd`\n",
    "ax1.grid(True)\n",
    "ax1.set_ylim(yrange)\n",
    "\n",
    "plt.show()"
   ]
  },
  {
   "cell_type": "markdown",
   "metadata": {},
   "source": [
    "This is a ported version of a MATLAB example from the signal\n",
    "processing toolbox that showed some difference at one time between\n",
    "Matplotlib's and MATLAB's scaling of the PSD.\n",
    "\n",
    "It uses a complex signal so we can see that complex PSD's work properly.\n",
    "\n"
   ]
  },
  {
   "cell_type": "code",
   "execution_count": null,
   "metadata": {},
   "outputs": [],
   "source": [
    "prng = np.random.RandomState(19680801)  # to ensure reproducibility\n",
    "\n",
    "fs = 1000\n",
    "t = np.linspace(0, 0.3, 301)\n",
    "A = np.array([2, 8]).reshape(-1, 1)\n",
    "f = np.array([150, 140]).reshape(-1, 1)\n",
    "xn = (A * np.exp(2j * np.pi * f * t)).sum(axis=0) + 5 * prng.randn(*t.shape)\n",
    "\n",
    "fig, (ax0, ax1) = plt.subplots(ncols=2, constrained_layout=True)\n",
    "\n",
    "yticks = np.arange(-50, 30, 10)\n",
    "yrange = (yticks[0], yticks[-1])\n",
    "xticks = np.arange(-500, 550, 200)\n",
    "\n",
    "ax0.psd(xn, NFFT=301, Fs=fs, window=mlab.window_none, pad_to=1024,\n",
    "        scale_by_freq=True)\n",
    "ax0.set_title('Periodogram')\n",
    "ax0.set_yticks(yticks)\n",
    "ax0.set_xticks(xticks)\n",
    "ax0.grid(True)\n",
    "ax0.set_ylim(yrange)\n",
    "\n",
    "ax1.psd(xn, NFFT=150, Fs=fs, window=mlab.window_none, pad_to=512, noverlap=75,\n",
    "        scale_by_freq=True)\n",
    "ax1.set_title('Welch')\n",
    "ax1.set_xticks(xticks)\n",
    "ax1.set_yticks(yticks)\n",
    "ax1.set_ylabel('')  # overwrite the y-label added by `psd`\n",
    "ax1.grid(True)\n",
    "ax1.set_ylim(yrange)\n",
    "\n",
    "plt.show()"
   ]
  },
  {
   "cell_type": "code",
   "execution_count": null,
   "metadata": {},
   "outputs": [],
   "source": []
  }
 ],
 "metadata": {
  "kernelspec": {
   "display_name": "Python 3",
   "language": "python",
   "name": "python3"
  },
  "language_info": {
   "codemirror_mode": {
    "name": "ipython",
    "version": 3
   },
   "file_extension": ".py",
   "mimetype": "text/x-python",
   "name": "python",
   "nbconvert_exporter": "python",
   "pygments_lexer": "ipython3",
   "version": "3.7.7"
  }
 },
 "nbformat": 4,
 "nbformat_minor": 1
}
