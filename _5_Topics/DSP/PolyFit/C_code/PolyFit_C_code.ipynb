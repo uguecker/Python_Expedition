{
 "cells": [
  {
   "attachments": {},
   "cell_type": "markdown",
   "metadata": {},
   "source": [
    "# PolyFit - C Code\n",
    "\n",
    "C-Code embedded from: https://github.com/natedomin/polyfit.git\n",
    "\n",
    "\n",
    "2020-06-16 ug\n",
    "\n",
    "2020-11-20 ug"
   ]
  },
  {
   "cell_type": "markdown",
   "metadata": {},
   "source": [
    "## Clone repository"
   ]
  },
  {
   "cell_type": "markdown",
   "metadata": {},
   "source": [
    "to later delete the '.\\polyfit_C_code'\n",
    "\n",
    "Git clone without .git directory https://stackoverflow.com/questions/11497457/git-clone-without-git-directory"
   ]
  },
  {
   "cell_type": "code",
   "execution_count": null,
   "metadata": {},
   "outputs": [],
   "source": [
    "!git clone --depth=1 --branch=master https://github.com/natedomin/polyfit.git polyfit_C_code"
   ]
  },
  {
   "cell_type": "markdown",
   "metadata": {},
   "source": [
    "“rm -rf” equivalent for Windows?\n",
    "https://stackoverflow.com/questions/97875/rm-rf-equivalent-for-windows"
   ]
  },
  {
   "cell_type": "code",
   "execution_count": null,
   "metadata": {},
   "outputs": [],
   "source": [
    "!rmdir /s /q .\\polyfit_C_code\\.git"
   ]
  },
  {
   "cell_type": "markdown",
   "metadata": {},
   "source": [
    "## Prepare"
   ]
  },
  {
   "cell_type": "code",
   "execution_count": null,
   "metadata": {},
   "outputs": [],
   "source": [
    "import numpy as np"
   ]
  },
  {
   "cell_type": "markdown",
   "metadata": {},
   "source": [
    "## C Code implementation"
   ]
  },
  {
   "cell_type": "markdown",
   "metadata": {},
   "source": [
    "polyfit.c /.h\n",
    "\n",
    "https://github.com/natedomin/polyfit\n",
    "\n",
    "int polyfit(const double* const dependentValues,\n",
    "            const double* const independentValues,\n",
    "            unsigned int        countOfElements,\n",
    "            unsigned int        order,\n",
    "            double*             coefficients);\n"
   ]
  },
  {
   "cell_type": "code",
   "execution_count": null,
   "metadata": {},
   "outputs": [],
   "source": [
    "%load_ext cython"
   ]
  },
  {
   "cell_type": "code",
   "execution_count": null,
   "metadata": {},
   "outputs": [],
   "source": [
    "%%writefile polyfit_C.pyx\n",
    "\n",
    "cdef extern from \"polyfit_C_code/polyfit.h\":\n",
    "    int polyfit(const double* const dependentValues,\n",
    "                const double* const independentValues,\n",
    "                unsigned int        countOfElements,\n",
    "                unsigned int        order,\n",
    "                double*             coefficients);\n",
    "import numpy as np\n",
    "\n",
    "def polyfit_C(x, y, coeff, order): # 'arr' is a one-dimensional numpy array\n",
    "\n",
    "    if not x.flags['C_CONTIGUOUS']:\n",
    "        x = np.ascontiguousarray(x) # Makes a contiguous copy of the numpy array.\n",
    "    if not y.flags['C_CONTIGUOUS']:\n",
    "        y = np.ascontiguousarray(y) # Makes a contiguous copy of the numpy array.\n",
    "    if not coeff.flags['C_CONTIGUOUS']:\n",
    "        coeff = np.ascontiguousarray(coeff) # Makes a contiguous copy of the numpy array.\n",
    "        \n",
    "    cdef double[::1] x_memview = x\n",
    "    cdef double[::1] y_memview = y\n",
    "    cdef double[::1] coeff_memview = coeff\n",
    "    cdef int order_tmp = order\n",
    "    \n",
    "       \n",
    "    polyfit(&x_memview[0],&y_memview[0], y_memview.shape[0], order_tmp, &coeff_memview[0]);\n",
    "               \n",
    "    return coeff"
   ]
  },
  {
   "cell_type": "code",
   "execution_count": null,
   "metadata": {},
   "outputs": [],
   "source": [
    "%%writefile setup_polyfit_c.py\n",
    "from distutils.core import setup, Extension\n",
    "from Cython.Build import cythonize\n",
    "ext = Extension('Cython_Polyfit_C', language=\"c\", sources = ['polyfit_C.pyx', 'polyfit_C_code/polyfit.c'])\n",
    "setup(name=\"Cython_Polyfit_C\", ext_modules = cythonize([ext]))"
   ]
  },
  {
   "cell_type": "code",
   "execution_count": null,
   "metadata": {},
   "outputs": [],
   "source": [
    "!python setup_polyfit_c.py build_ext --inplace"
   ]
  },
  {
   "cell_type": "code",
   "execution_count": null,
   "metadata": {},
   "outputs": [],
   "source": [
    "import Cython_Polyfit_C"
   ]
  },
  {
   "cell_type": "markdown",
   "metadata": {},
   "source": [
    "These inputs should result in the following approximate coefficients:\n",
    "\n",
    "         0.5           2.5           1.0        3.0 \n",
    "         \n",
    "    y = (0.5 * x^3) + (2.5 * x^2) + (1.0 * x) + 3.0 "
   ]
  },
  {
   "cell_type": "code",
   "execution_count": null,
   "metadata": {},
   "outputs": [],
   "source": [
    "x_test1 = np.array([12.0, 77.8, 44.1, 23.6, 108.2])\n",
    "y_test1 = np.array([1239.00, 250668.38, 47792.19, 7991.13, 662740.98])\n",
    "order = 3\n",
    "coeff = np.zeros(4)\n",
    "\n",
    "#polyfit_C(x, y, coeff, order)\n",
    "\n",
    "coeff = Cython_Polyfit_C.polyfit_C(x_test1, y_test1, coeff, order)\n",
    "coeff"
   ]
  },
  {
   "cell_type": "markdown",
   "metadata": {},
   "source": [
    "# Clean up"
   ]
  },
  {
   "cell_type": "code",
   "execution_count": null,
   "metadata": {},
   "outputs": [],
   "source": [
    "import os\n",
    "import shutil\n",
    "\n",
    "def deleteFile(FileName):\n",
    "    print(f'deleting file {FileName}', end ='')\n",
    "    try:\n",
    "        os.remove(FileName)\n",
    "        print(' done')\n",
    "    except OSError:\n",
    "        print(' skipped')\n",
    "def deleteFolder(FolderPathName):\n",
    "    # https://stackoverflow.com/questions/185936/how-to-delete-the-contents-of-a-folder\n",
    "    print('deleting folder %s'%FolderPathName,end='')\n",
    "    try:\n",
    "        shutil.rmtree(FolderPathName)   # , ignore_errors=True\n",
    "        print(' done')\n",
    "    except OSError:\n",
    "        print(' skipped')"
   ]
  },
  {
   "cell_type": "code",
   "execution_count": null,
   "metadata": {},
   "outputs": [],
   "source": [
    "fileList = ['setup_polyfit_c.py',\n",
    "            'polyfit_C.c',\n",
    "            'polyfit_C.pyx']\n",
    "for file in fileList:\n",
    "    deleteFile(file)\n",
    "deleteFolder(r'.\\build')\n",
    "deleteFolder(r'.\\polyfit_C_code')"
   ]
  }
 ],
 "metadata": {
  "kernelspec": {
   "display_name": "Python 3",
   "language": "python",
   "name": "python3"
  },
  "language_info": {
   "codemirror_mode": {
    "name": "ipython",
    "version": 3
   },
   "file_extension": ".py",
   "mimetype": "text/x-python",
   "name": "python",
   "nbconvert_exporter": "python",
   "pygments_lexer": "ipython3",
   "version": "3.7.7"
  }
 },
 "nbformat": 4,
 "nbformat_minor": 4
}
