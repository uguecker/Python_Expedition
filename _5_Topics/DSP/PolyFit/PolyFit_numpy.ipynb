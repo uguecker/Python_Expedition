{
 "cells": [
  {
   "cell_type": "markdown",
   "metadata": {},
   "source": [
    "# PolyFit - numpy\n",
    "\n",
    "Polynomial fit using numpy.polyfit\n",
    "\n",
    "To 3rd order polynomial evaluated in a given range distance dependent noise is added.\n",
    "\n",
    "Polynoms of orders 0th to 5th are fitted and are compore by plotting and calculating a root mean square value.\n",
    "\n",
    "Weighted polyfit are created and compared\n",
    "\n",
    "### todos\n",
    "analytic definitions and formulars\n",
    "\n",
    "### history\n",
    "\n",
    "2020-06-16 ug\n",
    "\n",
    "2020-11-21 ug"
   ]
  },
  {
   "cell_type": "markdown",
   "metadata": {},
   "source": [
    "## Prepare Python"
   ]
  },
  {
   "cell_type": "code",
   "execution_count": null,
   "metadata": {},
   "outputs": [],
   "source": [
    "%matplotlib inline"
   ]
  },
  {
   "cell_type": "code",
   "execution_count": null,
   "metadata": {},
   "outputs": [],
   "source": [
    "import numpy as np\n",
    "import matplotlib\n",
    "import matplotlib.pyplot as plt"
   ]
  },
  {
   "cell_type": "code",
   "execution_count": null,
   "metadata": {},
   "outputs": [],
   "source": [
    "matplotlib.__version__"
   ]
  },
  {
   "cell_type": "markdown",
   "metadata": {},
   "source": [
    "## Create a 3rd order polynom we want to fit (True Values)"
   ]
  },
  {
   "cell_type": "markdown",
   "metadata": {},
   "source": [
    "line represented by a 3rd Polynom:  \n",
    "$y(x) = c_0 + c_1 x + c_2 x^2 + c_3 x^3 \n",
    "= y_{\\text{offset}} + \\tan(\\alpha) x + \\frac{1}{2} \\kappa x^2 + \\frac{1}{6} \\dot{\\kappa} x^3 $\n",
    "\n",
    "with the coefficents:\n",
    "\n",
    "$c_0 = y_{\\text{offset}}$\n",
    "\n",
    "$c_1 = \\tan(\\alpha)$\n",
    "\n",
    "$c_2 = \\frac{1}{2} \\kappa$\n",
    "\n",
    "$c_3 = \\frac{1}{6} \\dot{\\kappa}$\n",
    "\n",
    "and the parmeters:\n",
    "\n",
    "- $y_{\\text{offset}}$  lateral displacement at $x$ = 0\n",
    "- $\\alpha$  heading angle at $x$ = 0\n",
    "- $\\kappa$ curvature at $x$ = 0\n",
    "- $\\dot{\\kappa}$ curvature change at $x$ = 0\n",
    "\n",
    "https://en.wikipedia.org/wiki/Curvature\n",
    "\n",
    "arc length $s$\n",
    "\n",
    "#todo: analytic definitions and formulars"
   ]
  },
  {
   "cell_type": "code",
   "execution_count": null,
   "metadata": {},
   "outputs": [],
   "source": [
    "y_offset = 0.5                           # m\n",
    "heading = 10                             # degree\n",
    "curvature = 1.0/500.0                    # 1/m\n",
    "curvature_change = (1.0/1000.0)/10.0     # 1/m^2"
   ]
  },
  {
   "cell_type": "code",
   "execution_count": null,
   "metadata": {},
   "outputs": [],
   "source": [
    "curvature"
   ]
  },
  {
   "cell_type": "code",
   "execution_count": null,
   "metadata": {},
   "outputs": [],
   "source": [
    "curvature_change"
   ]
  },
  {
   "cell_type": "markdown",
   "metadata": {},
   "source": [
    "build polynom p"
   ]
  },
  {
   "cell_type": "code",
   "execution_count": null,
   "metadata": {},
   "outputs": [],
   "source": [
    "c0 = y_offset\n",
    "c1 = np.tan(np.deg2rad(heading))\n",
    "c2 = 1./2.*curvature\n",
    "c3 = 1./6.*curvature_change\n",
    "p = np.poly1d([c3, c2, c1, c0])\n",
    "p"
   ]
  },
  {
   "cell_type": "markdown",
   "metadata": {},
   "source": [
    "evaluate polynom"
   ]
  },
  {
   "cell_type": "code",
   "execution_count": null,
   "metadata": {},
   "outputs": [],
   "source": [
    "x = np.linspace(5,100)"
   ]
  },
  {
   "cell_type": "code",
   "execution_count": null,
   "metadata": {},
   "outputs": [],
   "source": [
    "y_org = np.polyval(p,x)"
   ]
  },
  {
   "cell_type": "code",
   "execution_count": null,
   "metadata": {},
   "outputs": [],
   "source": [
    "y_org.shape"
   ]
  },
  {
   "cell_type": "code",
   "execution_count": null,
   "metadata": {},
   "outputs": [],
   "source": [
    "plt.plot(y_org,x)\n",
    "plt.grid(True)\n",
    "plt.xlabel('y')\n",
    "plt.ylabel('x')"
   ]
  },
  {
   "cell_type": "markdown",
   "metadata": {},
   "source": [
    "### add Noise"
   ]
  },
  {
   "cell_type": "markdown",
   "metadata": {},
   "source": [
    "$N(\\mu, \\sigma^2)$\n",
    "\n",
    "mu + sigma * np.random.standard_normal(size=...)\n",
    "\n",
    "np.random.normal(mu, sigma, size=...)"
   ]
  },
  {
   "cell_type": "code",
   "execution_count": null,
   "metadata": {},
   "outputs": [],
   "source": [
    "sigma = 1\n",
    "mu = 0"
   ]
  },
  {
   "cell_type": "markdown",
   "metadata": {},
   "source": [
    "noise variance is distance dependent"
   ]
  },
  {
   "cell_type": "code",
   "execution_count": null,
   "metadata": {},
   "outputs": [],
   "source": [
    "def sigma_vs_distance(x):\n",
    "    x_points     = [5, 50, 100]\n",
    "    sigma_points = [0.1,0.15, 1]\n",
    "    return np.interp(x,x_points,sigma_points)"
   ]
  },
  {
   "cell_type": "code",
   "execution_count": null,
   "metadata": {},
   "outputs": [],
   "source": [
    "#sigma_vec = np.ones_like(x)\n",
    "sigma_vec = sigma_vs_distance(x)"
   ]
  },
  {
   "cell_type": "code",
   "execution_count": null,
   "metadata": {},
   "outputs": [],
   "source": [
    "plt.plot(x, sigma_vec)\n",
    "plt.grid(True)\n",
    "plt.xlabel('distance $x$')\n",
    "plt.ylabel('noise variance $\\sigma$')\n",
    "plt.title('distance dependent noise $\\sigma(x)$')"
   ]
  },
  {
   "cell_type": "code",
   "execution_count": null,
   "metadata": {},
   "outputs": [],
   "source": [
    "noise = sigma_vec*np.random.standard_normal(size=y_org.shape) + mu"
   ]
  },
  {
   "cell_type": "code",
   "execution_count": null,
   "metadata": {},
   "outputs": [],
   "source": [
    "y = y_org + noise"
   ]
  },
  {
   "cell_type": "code",
   "execution_count": null,
   "metadata": {},
   "outputs": [],
   "source": [
    "#y = y_org + np.random.normal(mu, sigma, size=y_org.shape)"
   ]
  },
  {
   "cell_type": "markdown",
   "metadata": {},
   "source": [
    "## Plot\n",
    "\n",
    "change figure size and figure format in matplotlib\n",
    "https://stackoverflow.com/questions/17109608/change-figure-size-and-figure-format-in-matplotlib\n",
    "\n",
    "plt.figure(figsize=(width,height))"
   ]
  },
  {
   "cell_type": "code",
   "execution_count": null,
   "metadata": {},
   "outputs": [],
   "source": [
    "plt.figure(figsize=(15,10))\n",
    "plt.subplot(211)\n",
    "plt.plot(x, y_org)\n",
    "plt.plot(x, y)\n",
    "plt.grid(True)\n",
    "plt.xlabel('y')\n",
    "plt.ylabel('x')\n",
    "plt.title('polynom $y(x)$')\n",
    "\n",
    "plt.subplot(212)\n",
    "plt.plot(x,y-y_org)\n",
    "plt.grid(True)\n",
    "plt.xlabel('y-y_org')\n",
    "plt.ylabel('x')"
   ]
  },
  {
   "cell_type": "markdown",
   "metadata": {},
   "source": [
    "## Polyfit\n",
    "Fit polynom of different orders to the data"
   ]
  },
  {
   "cell_type": "code",
   "execution_count": null,
   "metadata": {},
   "outputs": [],
   "source": [
    "p5_hat = np.polyfit(x,y,5)\n",
    "p4_hat = np.polyfit(x,y,4)\n",
    "p3_hat = np.polyfit(x,y,3)\n",
    "p2_hat = np.polyfit(x,y,2)\n",
    "p1_hat = np.polyfit(x,y,1)\n",
    "p0_hat = np.polyfit(x,y,0)"
   ]
  },
  {
   "cell_type": "code",
   "execution_count": null,
   "metadata": {},
   "outputs": [],
   "source": [
    "type(p0_hat)"
   ]
  },
  {
   "cell_type": "markdown",
   "metadata": {},
   "source": [
    "evaluate the polynoms"
   ]
  },
  {
   "cell_type": "code",
   "execution_count": null,
   "metadata": {},
   "outputs": [],
   "source": [
    "y_p5_hat = np.polyval(p5_hat,x)\n",
    "y_p4_hat = np.polyval(p4_hat,x)\n",
    "y_p3_hat = np.polyval(p3_hat,x)\n",
    "y_p2_hat = np.polyval(p2_hat,x)\n",
    "y_p1_hat = np.polyval(p1_hat,x)\n",
    "y_p0_hat = np.polyval(p0_hat,x)"
   ]
  },
  {
   "cell_type": "markdown",
   "metadata": {},
   "source": [
    "Root Mean Square\n",
    "\n",
    "https://stackoverflow.com/questions/5613244/root-mean-square-in-numpy-and-complications-of-matrix-and-arrays-of-numpy"
   ]
  },
  {
   "cell_type": "code",
   "execution_count": null,
   "metadata": {},
   "outputs": [],
   "source": [
    "def rms(x):\n",
    "    return np.sqrt(x.dot(x)/x.size)"
   ]
  },
  {
   "cell_type": "code",
   "execution_count": null,
   "metadata": {},
   "outputs": [],
   "source": [
    "plt.figure(figsize=(15,10))\n",
    "plt.subplot(211)\n",
    "plt.plot(x, y, label='meas')\n",
    "plt.plot(x, y_p5_hat, label='p5_hat')\n",
    "plt.plot(x, y_p4_hat, label='p4_hat')\n",
    "plt.plot(x, y_p3_hat, label='p3_hat')\n",
    "plt.plot(x, y_p2_hat, label='p2_hat')\n",
    "plt.plot(x, y_p1_hat, label='p1_hat')\n",
    "plt.plot(x, y_p0_hat, label='p0_hat')\n",
    "plt.xlabel('y')\n",
    "plt.ylabel('x')\n",
    "plt.title('polynom $y(x)$ fit of different orders')\n",
    "plt.legend()\n",
    "plt.grid(True)\n",
    "\n",
    "plt.subplot(212)\n",
    "plt.plot(x, y_p5_hat-y, label=f'p5_hat-y (rms:{rms(y_p5_hat-y):6.2f})')\n",
    "plt.plot(x, y_p4_hat-y, label=f'p4_hat-y (rms:{rms(y_p4_hat-y):6.2f})')\n",
    "plt.plot(x, y_p3_hat-y, label=f'p3_hat-y (rms:{rms(y_p3_hat-y):6.2f})')\n",
    "plt.plot(x, y_p2_hat-y, label=f'p2_hat-y (rms:{rms(y_p2_hat-y):6.2f})')\n",
    "plt.plot(x, y_p1_hat-y, label=f'p1_hat-y (rms:{rms(y_p1_hat-y):6.2f})')\n",
    "plt.plot(x, y_p0_hat-y, label=f'p0_hat-y (rms:{rms(y_p0_hat-y):6.2f})')\n",
    "plt.legend()\n",
    "plt.grid(True)\n",
    "plt.xlabel('y - residuals')\n",
    "plt.ylabel('x')\n",
    "plt.title('residuals')\n"
   ]
  },
  {
   "cell_type": "code",
   "execution_count": null,
   "metadata": {},
   "outputs": [],
   "source": [
    "print(f'p     :\\n{p}')\n",
    "print(f'\\np0_hat:\\n{np.poly1d(p0_hat)}')\n",
    "print(f'\\np1_hat:\\n{np.poly1d(p1_hat)}')\n",
    "print(f'\\np2_hat:\\n{np.poly1d(p2_hat)}')\n",
    "print(f'\\np3_hat:\\n{np.poly1d(p3_hat)}')\n",
    "print(f'\\np4_hat:\\n{np.poly1d(p4_hat)}')\n",
    "print(f'\\np5_hat:\\n{np.poly1d(p5_hat)}')"
   ]
  },
  {
   "cell_type": "markdown",
   "metadata": {},
   "source": [
    "## Polyfit with weightings\n",
    "\n",
    "What are the weight values to use in numpy polyfit and what is the error of the fit\n",
    "\n",
    "https://stackoverflow.com/questions/19667877/what-are-the-weight-values-to-use-in-numpy-polyfit-and-what-is-the-error-of-the\n",
    "\n",
    "How to include measurement errors in numpy.polyfit\n",
    "\n",
    "https://stackoverflow.com/questions/26799467/how-to-include-measurement-errors-in-numpy-polyfit"
   ]
  },
  {
   "cell_type": "code",
   "execution_count": null,
   "metadata": {},
   "outputs": [],
   "source": [
    "p3_hat_weighted = np.polyfit(x,y,3,w=1/sigma_vec)"
   ]
  },
  {
   "cell_type": "code",
   "execution_count": null,
   "metadata": {},
   "outputs": [],
   "source": [
    "print(f'p     :\\n{p}')\n",
    "print(f'\\np3_hat:\\n{np.poly1d(p3_hat)}')\n",
    "print(f'\\np3_hat_weighted:\\n{np.poly1d(p3_hat_weighted)}')"
   ]
  },
  {
   "cell_type": "code",
   "execution_count": null,
   "metadata": {},
   "outputs": [],
   "source": []
  }
 ],
 "metadata": {
  "kernelspec": {
   "display_name": "Python 3",
   "language": "python",
   "name": "python3"
  },
  "language_info": {
   "codemirror_mode": {
    "name": "ipython",
    "version": 3
   },
   "file_extension": ".py",
   "mimetype": "text/x-python",
   "name": "python",
   "nbconvert_exporter": "python",
   "pygments_lexer": "ipython3",
   "version": "3.7.7"
  }
 },
 "nbformat": 4,
 "nbformat_minor": 4
}
