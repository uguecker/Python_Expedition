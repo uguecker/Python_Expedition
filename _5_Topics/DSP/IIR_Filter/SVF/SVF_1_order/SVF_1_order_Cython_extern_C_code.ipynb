{
 "cells": [
  {
   "cell_type": "markdown",
   "metadata": {},
   "source": [
    "# First Order State-Variable-Filter - Cython extern C code\n",
    "\n",
    "2020-06-16 ug"
   ]
  },
  {
   "cell_type": "markdown",
   "metadata": {},
   "source": [
    "Create a fixedpoint state variable filter in C Code and compile it a as Cython module\n",
    "\n",
    "Algorithmus: Zustandsvariablenfilter               \n",
    "                                                    \n",
    "Initialisierung:                                   \n",
    "f_x(0) = 0                                         \n",
    "df_x(0) = 0                                        \n",
    "                                                    \n",
    "Update-Schritt:                                    \n",
    "      tmp = (u(k) - f_x(k))/T;                     \n",
    " f_x(k+1) = f_x(k) + (tmp  + df_x(k)) * dT/2;      \n",
    "df_x(k+1) = tmp;                                  \n",
    "                                                    \n",
    "  T    : Filterzeitkonstante                      \n",
    "  dT   : Abtastzeit                               \n",
    "  f_x  : Ausgang: Filterung                       \n",
    "  df_x : Ausgang: Ableitung                       \n",
    "  u    : Eingang                                  \n",
    "  k    : Abtastschritt     \n",
    "\n",
    "Reference SVF:\n",
    "    ???\n",
    "\n",
    "Reference Cython:\n",
    "\n",
    "https://github.com/cython/cython/wiki/tutorials-NumpyPointerToC\n",
    "\n",
    "http://docs.cython.org/en/latest/src/userguide/memoryviews.html#pass-data-from-a-c-function-via-pointer"
   ]
  },
  {
   "cell_type": "markdown",
   "metadata": {},
   "source": [
    "**Step1:** load the Cython extension `%load_ext cython' from within the Jupyter notebook"
   ]
  },
  {
   "cell_type": "code",
   "execution_count": 1,
   "metadata": {},
   "outputs": [],
   "source": [
    "%load_ext cython"
   ]
  },
  {
   "cell_type": "markdown",
   "metadata": {},
   "source": [
    "## SVF - State Variable Filter - First Order"
   ]
  },
  {
   "cell_type": "markdown",
   "metadata": {},
   "source": [
    "Nebenrechnung: Quantisierung von Filterzeitkonstant $T$ und Abtastzeit $dT$"
   ]
  },
  {
   "cell_type": "code",
   "execution_count": 2,
   "metadata": {},
   "outputs": [
    {
     "data": {
      "text/plain": [
       "26"
      ]
     },
     "execution_count": 2,
     "metadata": {},
     "output_type": "execute_result"
    }
   ],
   "source": [
    "# Filterzeitkonstante T\n",
    "T_real = 0.1    # 100ms\n",
    "T_quant = 256   # 1/256 secs\n",
    "T_fixPoint = int(T_real*T_quant+.5)\n",
    "T_fixPoint\n"
   ]
  },
  {
   "cell_type": "code",
   "execution_count": 3,
   "metadata": {},
   "outputs": [
    {
     "data": {
      "text/plain": [
       "20"
      ]
     },
     "execution_count": 3,
     "metadata": {},
     "output_type": "execute_result"
    }
   ],
   "source": [
    "# Abtastzeit dT\n",
    "dT_real = 0.01  # 10ms\n",
    "dT_quant = 2048 # 1/2048 secs\n",
    "dT_fixPoint = int(dT_real*dT_quant+0.5)\n",
    "dT_fixPoint"
   ]
  },
  {
   "cell_type": "markdown",
   "metadata": {},
   "source": [
    "## Create Files"
   ]
  },
  {
   "cell_type": "markdown",
   "metadata": {},
   "source": [
    "Files to be created:\n",
    "\n",
    "C Code files - C_SVF_1o_int.c/.h    (int for integer implementation)\n",
    "    \n",
    "C Code files - C_SVF_1o_wrapper.c/.h\n",
    "\n",
    "Cython File  - SVF_int.pyx\n",
    "\n",
    "Python file  - setup.py"
   ]
  },
  {
   "cell_type": "markdown",
   "metadata": {},
   "source": [
    "### C Code files   C_SVF_1o_int.h"
   ]
  },
  {
   "cell_type": "code",
   "execution_count": 4,
   "metadata": {},
   "outputs": [
    {
     "name": "stdout",
     "output_type": "stream",
     "text": [
      "Writing C_SVF_1o_int.h\n"
     ]
    }
   ],
   "source": [
    "%%writefile C_SVF_1o_int.h\n",
    "#ifndef C_SVF_1o_INT_H\n",
    "#define C_SVF_1o_INT_H\n",
    "\n",
    "typedef signed long           sint32;        /* -2147483648 .. +2147483647     */\n",
    "\n",
    "// interal SVF state\n",
    "typedef struct\n",
    "{\n",
    "    sint32 f_x;   // Ausgang: Filterung \n",
    "    sint32 df_x;  // Ausgang: Ableitung \n",
    "}tSVF_state;     \n",
    "\n",
    "void SVF_int_init(tSVF_state *SVF_state,sint32 f_x_0);\n",
    "void SVF_int_calc(tSVF_state *SVF_state, sint32 u, unsigned char dT, unsigned char T);\n",
    "sint32 Get_f_x(tSVF_state *SVF_state);\n",
    "sint32 Get_df_x(tSVF_state *SVF_state);\n",
    "\n",
    "#endif"
   ]
  },
  {
   "cell_type": "markdown",
   "metadata": {},
   "source": [
    "### C Code files   C_SVF_1o_int.c"
   ]
  },
  {
   "cell_type": "code",
   "execution_count": 5,
   "metadata": {},
   "outputs": [
    {
     "name": "stdout",
     "output_type": "stream",
     "text": [
      "Writing C_SVF_1o_int.c\n"
     ]
    }
   ],
   "source": [
    "%%writefile C_SVF_1o_int.c\n",
    "#include \"C_SVF_1o_int.h\"\n",
    "\n",
    "// -------------------------------------------------- \n",
    "//                                                    \n",
    "// Algorithmus: Zustandsvariablenfilter               \n",
    "//                                                    \n",
    "// Initialisierung:                                   \n",
    "// f_x(0) = 0                                         \n",
    "// df_x(0) = 0                                        \n",
    "//                                                    \n",
    "// Update-Schritt:                                    \n",
    "//       tmp = (u(k) - f_x(k))/T;                     \n",
    "//  f_x(k+1) = f_x(k) + (tmp  + df_x(k)) * dT/2;      \n",
    "//  df_x(k+1) = tmp;                                  \n",
    "//                                                    \n",
    "//  T    : Filterzeitkonstante                      \n",
    "//  dT   : Abtastzeit                               \n",
    "//  f_x  : Ausgang: Filterung                       \n",
    "//  df_x : Ausgang: Ableitung                       \n",
    "//  u    : Eingang                                  \n",
    "//  k    : Abtastschritt                            \n",
    "\n",
    "#define FILTER_TIEFE 8\n",
    "#define UPPER_LIMIT  1073741823  /* 2^30-1 */\n",
    "#define LOWER_LIMIT -1073741824  /* -2^30  */\n",
    "\n",
    "#define limit(x1,x2,x3) (x2=((x2)<(x1)?(x1):((x2)>(x3)?(x3):(x2))))\n",
    "\n",
    "\n",
    "// ----------------------------------------\n",
    "// SVF Fix point implementation\n",
    "\n",
    "void SVF_int_init(tSVF_state *SVF_state,sint32 f_x_0)\n",
    "{\n",
    "    sint32 tmp32bit;\n",
    "    tmp32bit    = f_x_0;\n",
    "    tmp32bit  <<= FILTER_TIEFE;\n",
    "    (*SVF_state).f_x = tmp32bit;   // Ausgang: Filterung  \n",
    "    (*SVF_state).df_x = 0;         // Ausgang: Ableitung \n",
    "\n",
    "}\n",
    "\n",
    "void SVF_int_calc(tSVF_state *SVF_state, sint32 u, unsigned char dT, unsigned char T)\n",
    "{\n",
    "    // tSVF_state *SVF_state\n",
    "    // sint32 u            - input\n",
    "    // unsigned char  dT   - Abtastzeit:           10ms  (1/2048)    \n",
    "    // unsigned char  T    - Filterzeitkonstante: 100ms  (1/256)\n",
    "    // sint32 *f_x_return  - filtered input\n",
    "    // sint32 *df_x_return - filtered derivated input\n",
    "\n",
    "    // lokale Kopien\n",
    "    sint32 f_x;   // Ausgang: Filterung \n",
    "    sint32 df_x;  // Ausgang: Ableitung \n",
    "\n",
    "    // struct SVF_state -> lokale Kopien\n",
    "    f_x = (*SVF_state).f_x;\n",
    "    df_x = (*SVF_state).df_x;\n",
    "    \n",
    "    \n",
    "    // Register fuer temporaere Verwendung\n",
    "    sint32 tmp32bit;\n",
    "    sint32 tmp32bit2;\n",
    "\n",
    "    //unsigned char   T = 26;    // Filterzeitkonstante: 100ms  (1/256)  \n",
    "    //unsigned char  dT = 20;    // Abtastzeit:           10ms  (1/2048) \n",
    "\n",
    "    \n",
    "    tmp32bit = u;    // input\n",
    "    \n",
    "    tmp32bit  <<= FILTER_TIEFE;\n",
    "    tmp32bit   -= f_x;\n",
    "\n",
    "    tmp32bit  <<= 8;     // Quantisierung T\n",
    "    tmp32bit   /= (sint32) T;\n",
    "    tmp32bit = limit(LOWER_LIMIT,tmp32bit,UPPER_LIMIT);\n",
    "  \n",
    "    tmp32bit2   = tmp32bit;\n",
    "    tmp32bit2  += df_x;\n",
    "    tmp32bit2  *= (sint32) dT;\n",
    "    tmp32bit2 >>=11+1;  // Quantisierung dT und Faktor 1/2\n",
    "    tmp32bit2 = limit(LOWER_LIMIT,tmp32bit2,UPPER_LIMIT);\n",
    "\n",
    "    f_x         = f_x + tmp32bit2;\n",
    "    df_x        = tmp32bit;\n",
    "  \n",
    "    \n",
    "    // lokale Kopien -> struct SVF_state\n",
    "    (*SVF_state).f_x = f_x;\n",
    "    (*SVF_state).df_x = df_x; \n",
    "        \n",
    "}\n",
    "\n",
    "// return Methoden\n",
    "sint32 Get_f_x(tSVF_state *SVF_state)\n",
    "{\n",
    "    // Register fuer temporaere Verwendung\n",
    "    sint32 tmp32bit;\n",
    "        \n",
    "    // f_x ausgeben \n",
    "    tmp32bit   =  (*SVF_state).f_x;\n",
    "    tmp32bit >>= FILTER_TIEFE;\n",
    "    tmp32bit   = limit(-30000,tmp32bit,30000);\n",
    "    return tmp32bit;\n",
    "}\n",
    "sint32 Get_df_x(tSVF_state *SVF_state)\n",
    "{\n",
    "    // Register fuer temporaere Verwendung\n",
    "    sint32 tmp32bit;\n",
    "    \n",
    "    // df_x ausgeben \n",
    "    tmp32bit   = (*SVF_state).df_x;\n",
    "    tmp32bit >>= FILTER_TIEFE;\n",
    "    tmp32bit   = limit(-30000,tmp32bit,30000);\n",
    "    return tmp32bit;\n",
    "}"
   ]
  },
  {
   "cell_type": "markdown",
   "metadata": {},
   "source": [
    "### C Code files C_SVF_1o_wrapper.h"
   ]
  },
  {
   "cell_type": "code",
   "execution_count": 6,
   "metadata": {},
   "outputs": [
    {
     "name": "stdout",
     "output_type": "stream",
     "text": [
      "Writing C_SVF_1o_wrapper.h\n"
     ]
    }
   ],
   "source": [
    "%%writefile C_SVF_1o_wrapper.h\n",
    "#ifndef C_SVF_1o_wrapper_H\n",
    "#define C_SVF_1o_wrapper_H\n",
    "\n",
    "\n",
    "void run_SVF_in_C(unsigned int N, \n",
    "                  double dT, \n",
    "                  double T, \n",
    "                  double f_x_0, \n",
    "                  double inp[], \n",
    "                  double f_x_out[], \n",
    "                  double df_x_out[]);\n",
    "\n",
    "#endif"
   ]
  },
  {
   "cell_type": "markdown",
   "metadata": {},
   "source": [
    "### C Code files C_SVF_1o_wrapper.c"
   ]
  },
  {
   "cell_type": "code",
   "execution_count": 7,
   "metadata": {},
   "outputs": [
    {
     "name": "stdout",
     "output_type": "stream",
     "text": [
      "Writing C_SVF_1o_wrapper.c\n"
     ]
    }
   ],
   "source": [
    "%%writefile C_SVF_1o_wrapper.c\n",
    "\n",
    "#include \"C_SVF_1o_int.h\"\n",
    "\n",
    "// ------------------------------------\n",
    "void run_SVF_in_C(unsigned int N, double dT, double T, double f_x_0, double inp[], double f_x_out[], double df_x_out[])\n",
    "{\n",
    "    tSVF_state SVF_state;\n",
    "    sint32 tmp32bit;\n",
    "    unsigned int i;\n",
    "    sint32 f_x_return, df_x_return;\n",
    "    sint32 u;\n",
    "    unsigned char  dT_fixPoint;\n",
    "    unsigned char  T_fixPoint;\n",
    "    \n",
    "    // Skalierung dT und T\n",
    "    dT_fixPoint = (unsigned char)(dT*2040.0+0.5);    // Abtastzeit:  10ms  (1/2048)    \n",
    "    T_fixPoint  = (unsigned char)(T*256.0+0.5);      // Filterzeitkonstante: 100ms  (1/256)\n",
    "\n",
    "    \n",
    "    // initialize\n",
    "    tmp32bit = (double)f_x_0;\n",
    "    SVF_int_init(&SVF_state,tmp32bit);\n",
    "    \n",
    "    // loop\n",
    "    for (i = 0; i < N; i++) {\n",
    "        u = (sint32) inp[i];\n",
    "        \n",
    "        SVF_int_calc(&SVF_state, u, dT_fixPoint, T_fixPoint);\n",
    "        \n",
    "        f_x_return = Get_f_x(&SVF_state);\n",
    "        df_x_return = Get_df_x(&SVF_state);\n",
    "        \n",
    "        f_x_out[i]  = (double) f_x_return;\n",
    "        df_x_out[i] = (double) df_x_return;\n",
    "\n",
    "    }\n",
    "}"
   ]
  },
  {
   "cell_type": "markdown",
   "metadata": {},
   "source": [
    "### Cython File -  SVF_int.pyx\n",
    "\n",
    "define a Python function 'SVF_1o' that call the C code wrapper 'run_SVF_in_C'"
   ]
  },
  {
   "cell_type": "code",
   "execution_count": 8,
   "metadata": {},
   "outputs": [
    {
     "name": "stdout",
     "output_type": "stream",
     "text": [
      "Writing SVF_int.pyx\n"
     ]
    }
   ],
   "source": [
    "%%writefile SVF_int.pyx\n",
    "\n",
    "cdef extern from \"C_SVF_1o_wrapper.h\":\n",
    "    void run_SVF_in_C(unsigned int N, double dT, double T, double f_x_0, double inp[], double f_x_out[], double df_x_out[])\n",
    "\n",
    "\n",
    "import numpy as np\n",
    "\n",
    "def SVF_1o(inp, f_x_out, df_x_out, dT,T, f_x_0): # 'arr' is a one-dimensional numpy array\n",
    "\n",
    "    if not inp.flags['C_CONTIGUOUS']:\n",
    "        inp = np.ascontiguousarray(inp)           # Makes a contiguous copy of the numpy array.\n",
    "    if not f_x_out.flags['C_CONTIGUOUS']:\n",
    "        f_x_out = np.ascontiguousarray(f_x_out)   # Makes a contiguous copy of the numpy array.\n",
    "    if not df_x_out.flags['C_CONTIGUOUS']:\n",
    "        df_x_out = np.ascontiguousarray(df_x_out) # Makes a contiguous copy of the numpy array.\n",
    "\n",
    "        \n",
    "    cdef double[::1] inp_memview = inp\n",
    "    cdef double[::1] f_x_out_memview = f_x_out\n",
    "    cdef double[::1] df_x_out_memview = df_x_out\n",
    "    cdef double dT_tmp = dT\n",
    "    cdef double T_tmp = T\n",
    "    cdef double f_x_0_tmp = f_x_0\n",
    "       \n",
    "    run_SVF_in_C(f_x_out_memview.shape[0], dT_tmp, T_tmp, f_x_0_tmp, &inp_memview[0], &f_x_out_memview[0],&df_x_out_memview[0])\n",
    "   \n",
    "\n",
    "    return f_x_out, df_x_out"
   ]
  },
  {
   "cell_type": "markdown",
   "metadata": {},
   "source": [
    "### Python file - setup.py\n",
    "setup shall create Cython module 'Cython_SVF_1o'"
   ]
  },
  {
   "cell_type": "code",
   "execution_count": 9,
   "metadata": {},
   "outputs": [
    {
     "name": "stdout",
     "output_type": "stream",
     "text": [
      "Writing setup.py\n"
     ]
    }
   ],
   "source": [
    "%%writefile setup.py\n",
    "from distutils.core import setup, Extension\n",
    "from Cython.Build import cythonize\n",
    "\n",
    "ext = Extension('Cython_SVF_1o', \n",
    "                language=\"c\", \n",
    "                sources = ['SVF_int.pyx', 'C_SVF_1o_wrapper.c', 'C_SVF_1o_int.c'])\n",
    "\n",
    "setup(name=\"Cython_SVF_1o\", \n",
    "      ext_modules = cythonize([ext]))"
   ]
  },
  {
   "cell_type": "markdown",
   "metadata": {},
   "source": [
    "## Compile  -  call setup.py\n",
    "\n",
    "`--inplace`  Cython module will be create in the same directory where setup.py is."
   ]
  },
  {
   "cell_type": "code",
   "execution_count": 10,
   "metadata": {},
   "outputs": [
    {
     "name": "stdout",
     "output_type": "stream",
     "text": [
      "Compiling SVF_int.pyx because it changed.\n",
      "[1/1] Cythonizing SVF_int.pyx\n",
      "running build_ext\n",
      "building 'Cython_SVF_1o' extension\n",
      "creating build\n",
      "creating build\\temp.win-amd64-3.7\n",
      "creating build\\temp.win-amd64-3.7\\Release\n",
      "C:\\Program Files (x86)\\Microsoft Visual Studio\\2019\\Community\\VC\\Tools\\MSVC\\14.24.28314\\bin\\HostX86\\x64\\cl.exe /c /nologo /Ox /W3 /GL /DNDEBUG /MD -IC:\\Users\\guecker\\Anaconda3\\envs\\SignalProc\\include -IC:\\Users\\guecker\\Anaconda3\\envs\\SignalProc\\include \"-IC:\\Program Files (x86)\\Microsoft Visual Studio\\2019\\Community\\VC\\Tools\\MSVC\\14.24.28314\\ATLMFC\\include\" \"-IC:\\Program Files (x86)\\Microsoft Visual Studio\\2019\\Community\\VC\\Tools\\MSVC\\14.24.28314\\include\" \"-IC:\\Program Files (x86)\\Windows Kits\\NETFXSDK\\4.8\\include\\um\" \"-IC:\\Program Files (x86)\\Windows Kits\\10\\include\\10.0.18362.0\\ucrt\" \"-IC:\\Program Files (x86)\\Windows Kits\\10\\include\\10.0.18362.0\\shared\" \"-IC:\\Program Files (x86)\\Windows Kits\\10\\include\\10.0.18362.0\\um\" \"-IC:\\Program Files (x86)\\Windows Kits\\10\\include\\10.0.18362.0\\winrt\" \"-IC:\\Program Files (x86)\\Windows Kits\\10\\include\\10.0.18362.0\\cppwinrt\" /TcSVF_int.c /Fobuild\\temp.win-amd64-3.7\\Release\\SVF_int.obj\n",
      "SVF_int.c\n",
      "SVF_int.c(2460): warning C4244: \"Funktion\": Konvertierung von \"Py_ssize_t\" in \"unsigned int\", m”glicher Datenverlust\n",
      "C:\\Program Files (x86)\\Microsoft Visual Studio\\2019\\Community\\VC\\Tools\\MSVC\\14.24.28314\\bin\\HostX86\\x64\\cl.exe /c /nologo /Ox /W3 /GL /DNDEBUG /MD -IC:\\Users\\guecker\\Anaconda3\\envs\\SignalProc\\include -IC:\\Users\\guecker\\Anaconda3\\envs\\SignalProc\\include \"-IC:\\Program Files (x86)\\Microsoft Visual Studio\\2019\\Community\\VC\\Tools\\MSVC\\14.24.28314\\ATLMFC\\include\" \"-IC:\\Program Files (x86)\\Microsoft Visual Studio\\2019\\Community\\VC\\Tools\\MSVC\\14.24.28314\\include\" \"-IC:\\Program Files (x86)\\Windows Kits\\NETFXSDK\\4.8\\include\\um\" \"-IC:\\Program Files (x86)\\Windows Kits\\10\\include\\10.0.18362.0\\ucrt\" \"-IC:\\Program Files (x86)\\Windows Kits\\10\\include\\10.0.18362.0\\shared\" \"-IC:\\Program Files (x86)\\Windows Kits\\10\\include\\10.0.18362.0\\um\" \"-IC:\\Program Files (x86)\\Windows Kits\\10\\include\\10.0.18362.0\\winrt\" \"-IC:\\Program Files (x86)\\Windows Kits\\10\\include\\10.0.18362.0\\cppwinrt\" /TcC_SVF_1o_wrapper.c /Fobuild\\temp.win-amd64-3.7\\Release\\C_SVF_1o_wrapper.obj\n",
      "C_SVF_1o_wrapper.c\n",
      "C_SVF_1o_wrapper.c(21): warning C4244: \"=\": Konvertierung von \"double\" in \"sint32\", m”glicher Datenverlust\n",
      "C:\\Program Files (x86)\\Microsoft Visual Studio\\2019\\Community\\VC\\Tools\\MSVC\\14.24.28314\\bin\\HostX86\\x64\\cl.exe /c /nologo /Ox /W3 /GL /DNDEBUG /MD -IC:\\Users\\guecker\\Anaconda3\\envs\\SignalProc\\include -IC:\\Users\\guecker\\Anaconda3\\envs\\SignalProc\\include \"-IC:\\Program Files (x86)\\Microsoft Visual Studio\\2019\\Community\\VC\\Tools\\MSVC\\14.24.28314\\ATLMFC\\include\" \"-IC:\\Program Files (x86)\\Microsoft Visual Studio\\2019\\Community\\VC\\Tools\\MSVC\\14.24.28314\\include\" \"-IC:\\Program Files (x86)\\Windows Kits\\NETFXSDK\\4.8\\include\\um\" \"-IC:\\Program Files (x86)\\Windows Kits\\10\\include\\10.0.18362.0\\ucrt\" \"-IC:\\Program Files (x86)\\Windows Kits\\10\\include\\10.0.18362.0\\shared\" \"-IC:\\Program Files (x86)\\Windows Kits\\10\\include\\10.0.18362.0\\um\" \"-IC:\\Program Files (x86)\\Windows Kits\\10\\include\\10.0.18362.0\\winrt\" \"-IC:\\Program Files (x86)\\Windows Kits\\10\\include\\10.0.18362.0\\cppwinrt\" /TcC_SVF_1o_int.c /Fobuild\\temp.win-amd64-3.7\\Release\\C_SVF_1o_int.obj\n",
      "C_SVF_1o_int.c\n",
      "C:\\Program Files (x86)\\Microsoft Visual Studio\\2019\\Community\\VC\\Tools\\MSVC\\14.24.28314\\bin\\HostX86\\x64\\link.exe /nologo /INCREMENTAL:NO /LTCG /DLL /MANIFEST:EMBED,ID=2 /MANIFESTUAC:NO /LIBPATH:C:\\Users\\guecker\\Anaconda3\\envs\\SignalProc\\libs /LIBPATH:C:\\Users\\guecker\\Anaconda3\\envs\\SignalProc\\PCbuild\\amd64 \"/LIBPATH:C:\\Program Files (x86)\\Microsoft Visual Studio\\2019\\Community\\VC\\Tools\\MSVC\\14.24.28314\\ATLMFC\\lib\\x64\" \"/LIBPATH:C:\\Program Files (x86)\\Microsoft Visual Studio\\2019\\Community\\VC\\Tools\\MSVC\\14.24.28314\\lib\\x64\" \"/LIBPATH:C:\\Program Files (x86)\\Windows Kits\\NETFXSDK\\4.8\\lib\\um\\x64\" \"/LIBPATH:C:\\Program Files (x86)\\Windows Kits\\10\\lib\\10.0.18362.0\\ucrt\\x64\" \"/LIBPATH:C:\\Program Files (x86)\\Windows Kits\\10\\lib\\10.0.18362.0\\um\\x64\" /EXPORT:PyInit_Cython_SVF_1o build\\temp.win-amd64-3.7\\Release\\SVF_int.obj build\\temp.win-amd64-3.7\\Release\\C_SVF_1o_wrapper.obj build\\temp.win-amd64-3.7\\Release\\C_SVF_1o_int.obj /OUT:C:\\Users\\guecker\\Documents\\GitHub\\Python_Expedition\\_5_Topics\\DSP\\IIR_Filter\\SVF\\SVF_1_order\\Cython_SVF_1o.cp37-win_amd64.pyd /IMPLIB:build\\temp.win-amd64-3.7\\Release\\Cython_SVF_1o.cp37-win_amd64.lib\n",
      "   Bibliothek \"build\\temp.win-amd64-3.7\\Release\\Cython_SVF_1o.cp37-win_amd64.lib\" und Objekt \"build\\temp.win-amd64-3.7\\Release\\Cython_SVF_1o.cp37-win_amd64.exp\" werden erstellt.\n",
      "Code wird generiert.\n",
      "Codegenerierung ist abgeschlossen.\n"
     ]
    },
    {
     "name": "stderr",
     "output_type": "stream",
     "text": [
      "C:\\Users\\guecker\\Anaconda3\\envs\\SignalProc\\lib\\site-packages\\Cython\\Compiler\\Main.py:369: FutureWarning: Cython directive 'language_level' not set, using 2 for now (Py2). This will change in a later release! File: C:\\Users\\guecker\\Documents\\GitHub\\Python_Expedition\\_5_Topics\\DSP\\IIR_Filter\\SVF\\SVF_1_order\\SVF_int.pyx\n",
      "  tree = Parsing.p_module(s, pxd, full_module_name)\n"
     ]
    }
   ],
   "source": [
    "!python setup.py build_ext --inplace"
   ]
  },
  {
   "cell_type": "markdown",
   "metadata": {},
   "source": [
    "## Run Filter"
   ]
  },
  {
   "cell_type": "code",
   "execution_count": 11,
   "metadata": {},
   "outputs": [],
   "source": [
    "import numpy as np\n",
    "%matplotlib inline\n",
    "import matplotlib.pyplot as plt"
   ]
  },
  {
   "cell_type": "markdown",
   "metadata": {},
   "source": [
    "import created module 'Cython_SVF_1o'"
   ]
  },
  {
   "cell_type": "code",
   "execution_count": 12,
   "metadata": {},
   "outputs": [],
   "source": [
    "import Cython_SVF_1o"
   ]
  },
  {
   "cell_type": "markdown",
   "metadata": {},
   "source": [
    "call function 'SVF_1o' from module 'Cython_SVF_1o'"
   ]
  },
  {
   "cell_type": "code",
   "execution_count": 13,
   "metadata": {},
   "outputs": [
    {
     "data": {
      "text/plain": [
       "(array([  0.,   0.,   0.,   0.,   0.,   0.,   0.,   0.,   0.,  16.,  48.,\n",
       "         79., 110., 139., 168., 195., 222., 247., 272., 296., 319., 342.,\n",
       "        364., 385., 405., 424., 443., 462., 480., 497., 513., 529., 545.,\n",
       "        560., 574., 588., 602., 615., 628., 640., 652., 663., 675., 685.,\n",
       "        696., 706., 715., 725., 734., 743., 751., 759., 767., 775., 782.,\n",
       "        789., 796., 803., 810., 816., 822., 828., 833., 839., 844., 849.,\n",
       "        854., 859., 864., 868., 873., 877., 881., 885., 889., 892., 896.,\n",
       "        899., 902., 906., 909., 912., 915., 917., 920., 923., 925., 928.,\n",
       "        930., 932., 935., 937., 939., 941., 943., 945., 946., 948., 950.,\n",
       "        952., 937., 906., 876., 847., 819., 792., 766., 741., 716., 693.,\n",
       "        670., 648., 626., 605., 585., 566., 547., 529., 512., 495., 479.,\n",
       "        463., 447., 433., 418., 404., 391., 378., 366., 354., 342., 331.,\n",
       "        320., 309., 299., 289., 279., 270., 261., 253., 244., 236., 228.,\n",
       "        221., 213., 206., 200., 193., 187., 180., 174., 169., 163., 158.,\n",
       "        152., 147., 142., 138., 133., 129., 124., 120., 116., 113., 109.,\n",
       "        105., 102.,  98.,  95.,  92.,  89.,  86.,  83.,  80.,  78.,  75.,\n",
       "         73.,  70.,  68.,  66.,  63.,  61.,  59.,  57.,  55.,  53.,  52.,\n",
       "         50.,  48.,  47.,  45.,  44.,  42.,  41.,  39.,  38.,  37.,  36.,\n",
       "         34.,  33.]),\n",
       " array([    0.,     0.,     0.,     0.,     0.,     0.,     0.,     0.,\n",
       "            0.,  3324.,  3270.,  3163.,  3059.,  2958.,  2860.,  2766.,\n",
       "         2674.,  2586.,  2501.,  2418.,  2338.,  2261.,  2186.,  2114.,\n",
       "         2044.,  1977.,  1911.,  1848.,  1787.,  1728.,  1671.,  1616.,\n",
       "         1563.,  1511.,  1461.,  1413.,  1366.,  1321.,  1277.,  1235.,\n",
       "         1194.,  1155.,  1117.,  1080.,  1044.,  1010.,   976.,   944.,\n",
       "          913.,   883.,   854.,   825.,   798.,   772.,   746.,   722.,\n",
       "          698.,   675.,   652.,   631.,   610.,   590.,   570.,   552.,\n",
       "          533.,   516.,   499.,   482.,   466.,   451.,   436.,   422.,\n",
       "          408.,   394.,   381.,   369.,   356.,   345.,   333.,   322.,\n",
       "          312.,   301.,   291.,   282.,   272.,   263.,   255.,   246.,\n",
       "          238.,   230.,   223.,   215.,   208.,   201.,   195.,   188.,\n",
       "          182.,   176.,   170.,   164., -3166., -3117., -3015., -2915.,\n",
       "        -2819., -2726., -2636., -2549., -2465., -2383., -2305., -2229.,\n",
       "        -2155., -2084., -2015., -1949., -1884., -1822., -1762., -1704.,\n",
       "        -1647., -1593., -1540., -1490., -1440., -1393., -1347., -1302.,\n",
       "        -1259., -1218., -1178., -1139., -1101., -1065., -1030.,  -996.,\n",
       "         -963.,  -931.,  -900.,  -871.,  -842.,  -814.,  -787.,  -761.,\n",
       "         -736.,  -712.,  -688.,  -666.,  -644.,  -622.,  -602.,  -582.,\n",
       "         -563.,  -544.,  -526.,  -509.,  -492.,  -476.,  -460.,  -445.,\n",
       "         -430.,  -416.,  -402.,  -389.,  -376.,  -364.,  -352.,  -340.,\n",
       "         -329.,  -318.,  -308.,  -297.,  -288.,  -278.,  -269.,  -260.,\n",
       "         -252.,  -243.,  -235.,  -227.,  -220.,  -213.,  -206.,  -199.,\n",
       "         -192.,  -186.,  -180.,  -174.,  -168.,  -163.,  -157.,  -152.,\n",
       "         -147.,  -142.,  -138.,  -133.,  -129.,  -124.,  -120.,  -116.]))"
      ]
     },
     "execution_count": 13,
     "metadata": {},
     "output_type": "execute_result"
    }
   ],
   "source": [
    "# Step impulse response\n",
    "N = 200\n",
    "dt = 0.01\n",
    "T = 0.3\n",
    "f_x_0 = 0\n",
    "N_leader = 9\n",
    "t = (np.arange(N)-N_leader+1)*dt\n",
    "inp = np.zeros_like(t, dtype=np.double)\n",
    "f_x_out = np.zeros_like(t, dtype=np.double)\n",
    "df_x_out = np.zeros_like(t, dtype=np.double)\n",
    "\n",
    "\n",
    "inp[N_leader:-100] = 1000\n",
    "\n",
    "Cython_SVF_1o.SVF_1o(inp, f_x_out, df_x_out, dt,T, f_x_0)"
   ]
  },
  {
   "cell_type": "code",
   "execution_count": 14,
   "metadata": {},
   "outputs": [
    {
     "data": {
      "image/png": "[encoded data removed]",
      "text/plain": [
       "<Figure size 360x360 with 2 Axes>"
      ]
     },
     "metadata": {
      "needs_background": "light"
     },
     "output_type": "display_data"
    }
   ],
   "source": [
    "fig, (ax1,ax2) = plt.subplots(2, 1, figsize=(5, 5))\n",
    "ax1.plot(t, inp, 'b',label ='input')\n",
    "ax1.plot(t, f_x_out, 'r',label = 'f_x')\n",
    "ax1.legend()\n",
    "ax1.grid()\n",
    "\n",
    "ax2.plot(t, df_x_out, 'r',label = 'df_x')\n",
    "ax2.legend()\n",
    "ax2.grid()"
   ]
  },
  {
   "cell_type": "markdown",
   "metadata": {},
   "source": [
    "### Sinus"
   ]
  },
  {
   "cell_type": "code",
   "execution_count": 15,
   "metadata": {},
   "outputs": [
    {
     "data": {
      "image/png": "[encoded data removed]",
      "text/plain": [
       "<Figure size 720x360 with 2 Axes>"
      ]
     },
     "metadata": {
      "needs_background": "light"
     },
     "output_type": "display_data"
    }
   ],
   "source": [
    "N = 400\n",
    "dt = 0.01\n",
    "T = 0.1\n",
    "f_x_0 = 0\n",
    "f0 = 0.5    # Sinus with 1 Hz\n",
    "t = np.arange(N)*dt\n",
    "inp = 1000*np.sin(2*np.pi*f0*t)\n",
    "f_x_out = np.zeros_like(t, dtype=np.double)\n",
    "df_x_out = np.zeros_like(t, dtype=np.double)\n",
    "\n",
    "# calculated true dervation\n",
    "df_x_true = 1000*2*np.pi*f0*np.cos(2*np.pi*f0*t)\n",
    "\n",
    "Cython_SVF_1o.SVF_1o(inp, f_x_out, df_x_out, dt,T, f_x_0);\n",
    "\n",
    "fig, (ax1,ax2) = plt.subplots(2, 1, figsize=(10, 5))\n",
    "ax1.plot(t, inp, 'b',label ='input')\n",
    "ax1.plot(t, f_x_out, 'r',label = 'f_x')\n",
    "ax1.legend()\n",
    "ax1.grid()\n",
    "\n",
    "ax2.plot(t, df_x_out, 'r',label = 'df_x')\n",
    "ax2.plot(t, df_x_true, 'b',label = 'df_x_true')\n",
    "\n",
    "\n",
    "ax2.legend()\n",
    "ax2.grid()"
   ]
  },
  {
   "cell_type": "markdown",
   "metadata": {},
   "source": [
    "# Clean up"
   ]
  },
  {
   "cell_type": "code",
   "execution_count": 16,
   "metadata": {},
   "outputs": [],
   "source": [
    "import os\n",
    "import shutil\n",
    "\n",
    "def deleteFile(FileName):\n",
    "    print(f'deleting file {FileName}', end ='')\n",
    "    try:\n",
    "        os.remove(FileName)\n",
    "        print(' done')\n",
    "    except OSError:\n",
    "        print(' skipped')\n",
    "def deleteFolder(FolderPathName):\n",
    "    # https://stackoverflow.com/questions/185936/how-to-delete-the-contents-of-a-folder\n",
    "    print('deleting folder %s'%FolderPathName,end='')\n",
    "    try:\n",
    "        shutil.rmtree(FolderPathName)   # , ignore_errors=True\n",
    "        print(' done')\n",
    "    except OSError:\n",
    "        print(' skipped')"
   ]
  },
  {
   "cell_type": "code",
   "execution_count": 18,
   "metadata": {},
   "outputs": [
    {
     "name": "stdout",
     "output_type": "stream",
     "text": [
      "deleting file SVF_int.pyx skipped\n",
      "deleting file C_SVF_1o_int.c skipped\n",
      "deleting file C_SVF_1o_int.h skipped\n",
      "deleting file C_SVF_1o_wrapper.c skipped\n",
      "deleting file C_SVF_1o_wrapper.h skipped\n",
      "deleting file Cython_SVF_1o.cp37-win_amd64.pyd skipped\n",
      "deleting file setup.py done\n",
      "deleting file SVF_int.c skipped\n",
      "deleting folder .\\build skipped\n"
     ]
    }
   ],
   "source": [
    "fileList = ['SVF_int.pyx',\n",
    "            'C_SVF_1o_int.c',\n",
    "            'C_SVF_1o_int.h',\n",
    "            'C_SVF_1o_wrapper.c',\n",
    "            'C_SVF_1o_wrapper.h',s\n",
    "            'setup.py',\n",
    "            'SVF_int.c']\n",
    "for file in fileList:\n",
    "    deleteFile(file)\n",
    "deleteFolder(r'.\\build')"
   ]
  },
  {
   "cell_type": "code",
   "execution_count": 20,
   "metadata": {},
   "outputs": [],
   "source": [
    "#'Cython_SVF_1o.cp37-win_amd64.pyd' cannot be delete because it is opened\n",
    "#os.remove('Cython_SVF_1o.cp37-win_amd64.pyd')"
   ]
  }
 ],
 "metadata": {
  "kernelspec": {
   "display_name": "Python 3",
   "language": "python",
   "name": "python3"
  },
  "language_info": {
   "codemirror_mode": {
    "name": "ipython",
    "version": 3
   },
   "file_extension": ".py",
   "mimetype": "text/x-python",
   "name": "python",
   "nbconvert_exporter": "python",
   "pygments_lexer": "ipython3",
   "version": "3.7.7"
  }
 },
 "nbformat": 4,
 "nbformat_minor": 4
}
