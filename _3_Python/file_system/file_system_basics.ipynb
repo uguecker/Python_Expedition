{
 "cells": [
  {
   "attachments": {},
   "cell_type": "markdown",
   "metadata": {},
   "source": [
    "# File System Basics\n",
    "\n",
    "2020-09-06 ug\n",
    "\n",
    "2020-11-17 ug\n",
    "\n",
    "2020-11-18 ug  - add os.path.exists(), os.path.isdir() and os.path.isfile();  brush up \n",
    "\n",
    "\n",
    "todo"
   ]
  },
  {
   "cell_type": "markdown",
   "metadata": {},
   "source": [
    "<hr style=\"border:2px solid gray\"> </hr>\n",
    "\n",
    "### imports"
   ]
  },
  {
   "cell_type": "code",
   "execution_count": null,
   "metadata": {},
   "outputs": [],
   "source": [
    "import os\n",
    "import shutil"
   ]
  },
  {
   "cell_type": "markdown",
   "metadata": {},
   "source": [
    "<hr style=\"border:2px solid gray\"> </hr>\n",
    "\n",
    "## dealing with path names\n",
    "\n",
    "`os.path.join()` -> build path\n",
    "\n",
    "`os.path.dirname()`  -> extract name of the directory \n",
    "`os.path.basename()` -> extract file name\n",
    "\n",
    "`os.path.splitext()` -> separate **ext**ension from file path\n",
    "\n",
    "\n",
    "https://stackoverflow.com/questions/3167154/how-to-split-a-dos-path-into-its-components-in-python\n",
    "\n",
    "`drive, path_and_file = os.path.splitdrive(path)`\n",
    "\n",
    "`path, file = os.path.split(PathName)`\n",
    "\n",
    "`path = os.path.normpath(path)` -> normalize the path string into a proper string for the OS"
   ]
  },
  {
   "cell_type": "code",
   "execution_count": null,
   "metadata": {},
   "outputs": [],
   "source": [
    "FileName = 'File.1.0.txt'\n",
    "#DirName = r'C:\\tmp\\Folder'\n",
    "DirName = r'C:/tmp/Folder'\n",
    "\n",
    "\n",
    "PathName = os.path.join(DirName,FileName)\n",
    "print('os.path.join(DirName,FileName):',PathName)\n",
    "print('os.path.dirname(PathName)     :',os.path.dirname(PathName))\n",
    "print('os.path.basename(PathName)    :',os.path.basename(PathName))\n",
    "print('os.path.splitext(PathName)    :',os.path.splitext(PathName))\n",
    "print('os.path.splitdrive(PathName)  :',os.path.splitdrive(PathName))\n",
    "print('os.path.split(PathName)       :',os.path.split(PathName))\n",
    "print('os.path.normpath(PathName)    :',os.path.normpath(PathName))"
   ]
  },
  {
   "cell_type": "markdown",
   "metadata": {},
   "source": [
    "<hr style=\"border:2px solid gray\"> </hr>\n",
    "\n",
    "## directories and files"
   ]
  },
  {
   "cell_type": "markdown",
   "metadata": {},
   "source": [
    "### create directory\n",
    "\n",
    "`os.makedirs(dirName,exist_ok=True)`\n",
    "\n",
    "Reference: <https://www.geeksforgeeks.org/python-os-makedirs-method/> "
   ]
  },
  {
   "cell_type": "code",
   "execution_count": null,
   "metadata": {},
   "outputs": [],
   "source": [
    "dirName = r'.\\myfolder'\n",
    "os.makedirs(dirName,exist_ok=True)"
   ]
  },
  {
   "cell_type": "markdown",
   "metadata": {},
   "source": [
    "### write files to created folder\n",
    "context manager: https://book.pythontips.com/en/latest/context_managers.html"
   ]
  },
  {
   "cell_type": "code",
   "execution_count": null,
   "metadata": {},
   "outputs": [],
   "source": [
    "for k in range(4):\n",
    "    filePath = os.path.join(dirName,f'file{k}.txt')\n",
    "    with open(filePath, 'w') as opened_file:\n",
    "        opened_file.write(f'This is file {k}') "
   ]
  },
  {
   "cell_type": "markdown",
   "metadata": {},
   "source": [
    "#### create subdirectory"
   ]
  },
  {
   "cell_type": "code",
   "execution_count": null,
   "metadata": {},
   "outputs": [],
   "source": [
    "subdirName = 'mysubfolder'\n",
    "\n",
    "os.makedirs(os.path.join(dirName,subdirName) ,exist_ok=True)\n",
    "for k in range(4):\n",
    "    filePath = os.path.join(dirName,subdirName,f'subfile{k}.txt')\n",
    "    with open(filePath, 'w') as opened_file:\n",
    "        opened_file.write(f'This is subfile {k}')"
   ]
  },
  {
   "cell_type": "markdown",
   "metadata": {},
   "source": [
    "#### create subsubdirectory"
   ]
  },
  {
   "cell_type": "code",
   "execution_count": null,
   "metadata": {},
   "outputs": [],
   "source": [
    "subsubdirName = 'mysubsubfolder'\n",
    "\n",
    "os.makedirs(os.path.join(dirName,subdirName,subsubdirName) ,exist_ok=True)\n",
    "for k in range(4):\n",
    "    filePath = os.path.join(dirName,subdirName,subsubdirName,f'subsubfile{k}.txt')\n",
    "    with open(filePath, 'w') as opened_file:\n",
    "        opened_file.write(f'This is subsubfile {k}')"
   ]
  },
  {
   "cell_type": "markdown",
   "metadata": {},
   "source": [
    "### check if directory exists - `os.path.exists(path)`"
   ]
  },
  {
   "cell_type": "code",
   "execution_count": null,
   "metadata": {},
   "outputs": [],
   "source": [
    "os.path.exists(r'.\\myfolder')"
   ]
  },
  {
   "cell_type": "code",
   "execution_count": null,
   "metadata": {},
   "outputs": [],
   "source": [
    "os.path.exists(r'.\\myfolder\\file0.txt')"
   ]
  },
  {
   "cell_type": "markdown",
   "metadata": {},
   "source": [
    "### check if name is directory - `os.path.isdir(path)`"
   ]
  },
  {
   "cell_type": "code",
   "execution_count": null,
   "metadata": {},
   "outputs": [],
   "source": [
    "os.path.isdir(r'.\\myfolder')"
   ]
  },
  {
   "cell_type": "code",
   "execution_count": null,
   "metadata": {},
   "outputs": [],
   "source": [
    "os.path.isdir(r'.\\myfolder\\file0.txt')"
   ]
  },
  {
   "cell_type": "markdown",
   "metadata": {},
   "source": [
    "### check if name is file - `os.path.isfile(path)`"
   ]
  },
  {
   "cell_type": "code",
   "execution_count": null,
   "metadata": {},
   "outputs": [],
   "source": [
    "os.path.isfile(r'.\\myfolder')"
   ]
  },
  {
   "cell_type": "code",
   "execution_count": null,
   "metadata": {},
   "outputs": [],
   "source": [
    "os.path.isfile(r'.\\myfolder\\file0.txt')"
   ]
  },
  {
   "cell_type": "markdown",
   "metadata": {},
   "source": [
    "<hr style=\"border:2px solid gray\"> </hr>\n",
    "\n",
    "## How to get list of files in directory and sub directories\n",
    "\t\n",
    "<https://thispointer.com/python-how-to-get-list-of-files-in-directory-and-sub-directories/> \n"
   ]
  },
  {
   "cell_type": "markdown",
   "metadata": {},
   "source": [
    "### find files in a the current directory - not recursive - `os.listdir(dirName)` \n",
    "\n",
    "list files only in current directory"
   ]
  },
  {
   "cell_type": "code",
   "execution_count": null,
   "metadata": {},
   "outputs": [],
   "source": [
    "os.listdir(dirName)"
   ]
  },
  {
   "cell_type": "markdown",
   "metadata": {},
   "source": [
    "#### find all textfiles in the current directory"
   ]
  },
  {
   "cell_type": "code",
   "execution_count": null,
   "metadata": {},
   "outputs": [],
   "source": [
    "TxtFiles = [filename for filename in os.listdir(dirName) if filename.endswith('.txt')]\n",
    "for TxtFile in TxtFiles:\n",
    "    print(TxtFile)"
   ]
  },
  {
   "cell_type": "code",
   "execution_count": null,
   "metadata": {},
   "outputs": [],
   "source": [
    "'''\n",
    "    For the given path, get the List of all files in the directory tree \n",
    "'''\n",
    "def getListOfFiles(dirName):\n",
    "    # create a list of file and sub directories \n",
    "    # names in the given directory \n",
    "    listOfFile = os.listdir(dirName)\n",
    "    allFiles = list()\n",
    "    # Iterate over all the entries\n",
    "    for entry in listOfFile:\n",
    "        # Create full path\n",
    "        fullPath = os.path.join(dirName, entry)\n",
    "        # If entry is a directory then get the list of files in this directory \n",
    "        if os.path.isdir(fullPath):\n",
    "            allFiles = allFiles + getListOfFiles(fullPath)\n",
    "        else:\n",
    "            allFiles.append(fullPath)\n",
    "                \n",
    "    return allFiles"
   ]
  },
  {
   "cell_type": "code",
   "execution_count": null,
   "metadata": {},
   "outputs": [],
   "source": [
    "allFiles = getListOfFiles(dirName)\n",
    "allFiles"
   ]
  },
  {
   "cell_type": "markdown",
   "metadata": {},
   "source": [
    "### Iterate over all the files in directory  - `os.walk()`\n",
    "\n",
    "recursive - iterate over directory tree"
   ]
  },
  {
   "cell_type": "code",
   "execution_count": null,
   "metadata": {},
   "outputs": [],
   "source": [
    "for folderName, subfolders, filenames in os.walk(dirName):\n",
    "    print(folderName,subfolders,filenames)"
   ]
  },
  {
   "cell_type": "code",
   "execution_count": null,
   "metadata": {},
   "outputs": [],
   "source": [
    "for folderName, subfolders, filenames in os.walk(dirName):\n",
    "    for filename in filenames:\n",
    "        # create complete filepath of file in directory\n",
    "        filePath = os.path.join(folderName, filename)\n",
    "        print(filePath)"
   ]
  },
  {
   "cell_type": "markdown",
   "metadata": {},
   "source": [
    "<hr style=\"border:2px solid gray\"> </hr>\n",
    "\n",
    "## move, copy and delete files\n",
    "\n",
    "### move file - `shutil.move(SourceFilePath, DestinationPath)`"
   ]
  },
  {
   "cell_type": "code",
   "execution_count": null,
   "metadata": {},
   "outputs": [],
   "source": [
    "SourceFilePath = r'.\\myfolder\\mysubfolder\\subfile0.txt'\n",
    "DestinationPath = r'.\\myfolder'\n",
    "shutil.move(SourceFilePath, DestinationPath)"
   ]
  },
  {
   "cell_type": "markdown",
   "metadata": {},
   "source": [
    "### copy file - `shutil.copy(SourceFilePath, DestinationPath)`"
   ]
  },
  {
   "cell_type": "code",
   "execution_count": null,
   "metadata": {},
   "outputs": [],
   "source": [
    "SourceFilePath = r'.\\myfolder\\mysubfolder\\subfile1.txt'\n",
    "DestinationPath = r'.\\myfolder'\n",
    "shutil.copy(SourceFilePath, DestinationPath)"
   ]
  },
  {
   "cell_type": "code",
   "execution_count": null,
   "metadata": {},
   "outputs": [],
   "source": [
    "SourceFilePath = r'.\\myfolder\\mysubfolder\\subfile1.txt'\n",
    "DestinationPath = r'.\\myfolder'\n",
    "#shutil.move(SourceFilePath, DestinationPath)  # this will create an error\n",
    "\n",
    "# to override a file you need to specify the full path\n",
    "shutil.move(SourceFilePath, os.path.join(DestinationPath,os.path.basename(SourceFilePath)))\n"
   ]
  },
  {
   "cell_type": "markdown",
   "metadata": {},
   "source": [
    "### delete files - `os.remove(FileName)`"
   ]
  },
  {
   "cell_type": "code",
   "execution_count": null,
   "metadata": {},
   "outputs": [],
   "source": [
    "def deleteFile(FileName):\n",
    "    print(f'deleting file {FileName}', end ='')\n",
    "    try:\n",
    "        os.remove(FileName)\n",
    "        print(' done')\n",
    "    except OSError:\n",
    "        print(' skipped')"
   ]
  },
  {
   "cell_type": "code",
   "execution_count": null,
   "metadata": {},
   "outputs": [],
   "source": [
    "FileName = r'.\\myfolder\\mysubfolder\\subfile2.txt'\n",
    "deleteFile(FileName)"
   ]
  },
  {
   "cell_type": "markdown",
   "metadata": {},
   "source": [
    "### delete folder - `shutil.rmtree(DirName)`"
   ]
  },
  {
   "cell_type": "code",
   "execution_count": null,
   "metadata": {},
   "outputs": [],
   "source": [
    "def deleteFolder(FolderPathName):\n",
    "    # https://stackoverflow.com/questions/185936/how-to-delete-the-contents-of-a-folder\n",
    "    print('deleting folder %s'%FolderPathName,end='')\n",
    "    try:\n",
    "        shutil.rmtree(FolderPathName)   # , ignore_errors=True\n",
    "        print(' done')\n",
    "    except OSError:\n",
    "        print(' skipped')"
   ]
  },
  {
   "cell_type": "code",
   "execution_count": null,
   "metadata": {},
   "outputs": [],
   "source": [
    "deleteFolder(dirName)"
   ]
  },
  {
   "cell_type": "markdown",
   "metadata": {},
   "source": [
    "### all created folder and file should be removed"
   ]
  }
 ],
 "metadata": {
  "kernelspec": {
   "display_name": "Python 3",
   "language": "python",
   "name": "python3"
  },
  "language_info": {
   "codemirror_mode": {
    "name": "ipython",
    "version": 3
   },
   "file_extension": ".py",
   "mimetype": "text/x-python",
   "name": "python",
   "nbconvert_exporter": "python",
   "pygments_lexer": "ipython3",
   "version": "3.7.7"
  }
 },
 "nbformat": 4,
 "nbformat_minor": 4
}
