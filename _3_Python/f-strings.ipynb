{
 "cells": [
  {
   "attachments": {},
   "cell_type": "markdown",
   "metadata": {},
   "source": [
    "# f-Strings in Python\n",
    "\n",
    "f-String - \"formatted string\"\n",
    "\n",
    "<hr style=\"border:2px solid gray\"> </hr>\n",
    "Reference\n",
    "\n",
    "Python f-string tutorial http://zetcode.com/python/fstring\n",
    "\n",
    "https://realpython.com/python-f-strings/\n",
    "\n",
    "Corey Schafer - Python Quick Tip: F-Strings - How to Use Them and Advanced String Formatting\n",
    "<https://www.youtube.com/watch?v=nghuHvKLhJA&t=4s>\n",
    "\n",
    "<hr style=\"border:2px solid gray\"> </hr>\n",
    "History\n",
    "\n",
    "2020-09-21 ug - formatting a float number\n",
    "\n",
    "2020-11-18 ug - string and integer"
   ]
  },
  {
   "attachments": {},
   "cell_type": "markdown",
   "metadata": {},
   "source": [
    "`f'Text {variable1}  Text {variable2}'`"
   ]
  },
  {
   "cell_type": "markdown",
   "metadata": {},
   "source": [
    "### string and integer"
   ]
  },
  {
   "cell_type": "code",
   "execution_count": null,
   "metadata": {},
   "outputs": [],
   "source": [
    "string_var = 'Name'\n",
    "integer_var = 1234\n",
    "f'string_var: {string_var}, integer_var: {integer_var}'"
   ]
  },
  {
   "cell_type": "markdown",
   "metadata": {},
   "source": [
    "### formatting a float number"
   ]
  },
  {
   "cell_type": "code",
   "execution_count": null,
   "metadata": {},
   "outputs": [],
   "source": [
    "my_float = 3.1415"
   ]
  },
  {
   "cell_type": "markdown",
   "metadata": {},
   "source": [
    "no formatting"
   ]
  },
  {
   "cell_type": "code",
   "execution_count": null,
   "metadata": {},
   "outputs": [],
   "source": [
    "print(f'{my_float}')"
   ]
  },
  {
   "cell_type": "markdown",
   "metadata": {},
   "source": [
    "formatting: show only two digit after the decimal point"
   ]
  },
  {
   "cell_type": "code",
   "execution_count": null,
   "metadata": {},
   "outputs": [],
   "source": [
    "print(f'{my_float:.2f}')"
   ]
  },
  {
   "cell_type": "code",
   "execution_count": null,
   "metadata": {},
   "outputs": [],
   "source": []
  }
 ],
 "metadata": {
  "kernelspec": {
   "display_name": "Python 3",
   "language": "python",
   "name": "python3"
  },
  "language_info": {
   "codemirror_mode": {
    "name": "ipython",
    "version": 3
   },
   "file_extension": ".py",
   "mimetype": "text/x-python",
   "name": "python",
   "nbconvert_exporter": "python",
   "pygments_lexer": "ipython3",
   "version": "3.7.7"
  }
 },
 "nbformat": 4,
 "nbformat_minor": 4
}
