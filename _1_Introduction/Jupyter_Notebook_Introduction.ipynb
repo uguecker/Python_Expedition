{
 "cells": [
  {
   "cell_type": "markdown",
   "metadata": {},
   "source": [
    "# Jupyter Notebook - Introduction\n",
    "\n",
    "The goal of this Jupyter Notebook is to get familiar with the basic concepts in Jupyter Notebook and get to know some of the _Jupyter Notebook keyboard shortcuts_.\n",
    "\n",
    "----------------------\n",
    "Reference: https://github.com/maxmelnick/jupyter_keyboard_shortcuts_snippets.git\n",
    "\n",
    "<hr style=\"border:2px solid gray\"> </hr>\n",
    "History\n",
    "\n",
    "2020-11-08 ug update"
   ]
  },
  {
   "cell_type": "markdown",
   "metadata": {},
   "source": [
    "<hr style=\"border:2px solid gray\"> </hr>\n",
    "\n",
    "### Select cells\n",
    "\n",
    "You can select cell:\n",
    "- by using and mouse and click into it or\n",
    "- by using the cursor up and down keys"
   ]
  },
  {
   "cell_type": "markdown",
   "metadata": {},
   "source": [
    "<hr style=\"border:2px solid gray\"> </hr>\n",
    "\n",
    "### Command vs. Edit Modes\n",
    "\n",
    "Jupyter Notebooks have two different **keyboard input modes**:\n",
    "\n",
    "1. **Command mode** - binds the keyboard to notebook level actions. Indicated by a grey cell border with a blue left margin.\n",
    "2. **Edit mode** - when you're typing in a cell. Indicated by a green cell border\n",
    "\n",
    "To switch between the command and edit mode, you can use:\n",
    "- If you're in command mode, type `enter` to enter edit mode. \n",
    "- If you're in edit mode, type `esc` to enter command mode.\n"
   ]
  },
  {
   "cell_type": "markdown",
   "metadata": {},
   "source": [
    "#### Command Mode\n",
    "\n",
    "To run a cell there are three key short cuts:\n",
    "\n",
    "- `shift` + `enter`  -> run the this cell and select the next cell\n",
    "- `ctrl` + `enter`  -> run this cell and keep the same cell selected\n",
    "- `alt` + `enter` -> run the cell and insert a new cell below\n",
    "\n",
    "Select next cell and then press `shift` + `enter`, this will run this cell and select the next cell. You will see the result from the print below the grey box"
   ]
  },
  {
   "cell_type": "code",
   "execution_count": null,
   "metadata": {},
   "outputs": [],
   "source": [
    "print(\"You just ran the cell and selected the next cell\")"
   ]
  },
  {
   "cell_type": "markdown",
   "metadata": {},
   "source": [
    "Select the next cell and click `ctrl` + `enter`, this will run this cell and will keep the same cell selected"
   ]
  },
  {
   "cell_type": "code",
   "execution_count": null,
   "metadata": {},
   "outputs": [],
   "source": [
    "print(\"You just ran the cell and the focus stayed in that cell\")"
   ]
  },
  {
   "cell_type": "markdown",
   "metadata": {},
   "source": [
    "Select the next cell selected, click `alt` + `enter` to run the cell and insert a new cell below"
   ]
  },
  {
   "cell_type": "code",
   "execution_count": null,
   "metadata": {},
   "outputs": [],
   "source": [
    "print(\"You just ran the cell and inserted a new cell below it\")"
   ]
  },
  {
   "cell_type": "markdown",
   "metadata": {},
   "source": [
    "<hr style=\"border:2px solid gray\"> </hr>\n",
    "\n",
    "### Cells in code or markdown mode\n",
    "\n",
    "Type `M` to change from `code` mode into `markdown` mode.\n",
    "\n",
    "Type `Y` to change from `markdown` mode into `code` mode.0"
   ]
  },
  {
   "cell_type": "markdown",
   "metadata": {},
   "source": [
    "This cell is in markdown mode"
   ]
  },
  {
   "cell_type": "code",
   "execution_count": null,
   "metadata": {},
   "outputs": [],
   "source": [
    "#This cell is in code mode"
   ]
  },
  {
   "attachments": {},
   "cell_type": "markdown",
   "metadata": {},
   "source": [
    "<hr style=\"border:2px solid gray\"> </hr>\n",
    "\n",
    "## View all keyboard shortcuts\n",
    "\n",
    "- To open a tooltip with all keyboard shortcuts to to Jupyter Notebook Menu: **Help|Keyboard Shortcuts**\n",
    "- Or press \"H\" in \"Command mode\" to get the following Keyboard shortcuts help display"
   ]
  },
  {
   "cell_type": "markdown",
   "metadata": {},
   "source": [
    "<hr style=\"border:2px solid gray\"> </hr>\n",
    "\n",
    "## Useful Shortcuts in Edit Mode\n",
    "\n",
    "Type `M` to change from `code` mode into `markdown` mode.\n",
    "\n",
    "Type `Y` to change from `markdown` mode into `code` mode.\n",
    "\n",
    "Type `Ctrl`+`Z` to undo the last changes. Can be repeated.\n"
   ]
  },
  {
   "cell_type": "markdown",
   "metadata": {},
   "source": [
    "<hr style=\"border:2px solid gray\"> </hr>\n",
    "\n",
    "## Useful Shortcuts in Command Mode\n",
    "\n",
    "Type `A` to insert a new cell above this one\n",
    "\n",
    "Type `B` to insert a new cell below.\n",
    "\n",
    "Type `D` and `D` again in short period of time to remove a cell\n",
    "\n",
    "Type `L` to activate line number in the particular cell if it is in code mode\n",
    "\n",
    "Type `Shift` + `L` to active line numbers for all code cells in the Juypter Notebook\n",
    "\n",
    "Type `H` for a list of all available keyboard shortcuts."
   ]
  },
  {
   "cell_type": "markdown",
   "metadata": {},
   "source": [
    "<hr style=\"border:2px solid gray\"> </hr>\n",
    "\n",
    "### Copy Cells\n",
    "\n",
    "Copy the next cell with `C` and then paste it with `V`"
   ]
  },
  {
   "cell_type": "code",
   "execution_count": null,
   "metadata": {},
   "outputs": [],
   "source": [
    "print(\"copy me\")"
   ]
  },
  {
   "cell_type": "markdown",
   "metadata": {},
   "source": [
    "<hr style=\"border:2px solid gray\"> </hr>\n",
    "\n",
    "### Delete Cells\n",
    "\n",
    "Delete the cell below by selecting it and typing `D`, `D` (i.e., hit the `D` button twice)"
   ]
  },
  {
   "cell_type": "code",
   "execution_count": null,
   "metadata": {},
   "outputs": [],
   "source": [
    "print(\"delete me\")"
   ]
  },
  {
   "cell_type": "markdown",
   "metadata": {},
   "source": [
    "<hr style=\"border:2px solid gray\"> </hr>\n",
    "\n",
    "### Merge Cells\n",
    "Merge the following two cells by selecting the first one and then typing `shift` + `M`"
   ]
  },
  {
   "cell_type": "code",
   "execution_count": null,
   "metadata": {
    "scrolled": true
   },
   "outputs": [],
   "source": [
    "print(\"click me and then merge me with the next cell\")"
   ]
  },
  {
   "cell_type": "code",
   "execution_count": null,
   "metadata": {},
   "outputs": [],
   "source": [
    "print(\"merge me with the cell above\")"
   ]
  },
  {
   "cell_type": "markdown",
   "metadata": {},
   "source": [
    "<hr style=\"border:2px solid gray\"> </hr>\n",
    "\n",
    "### Switch between Code and Markdown mode\n",
    "\n",
    "Experiment with changing the following cells to `code` and `markdown` modes\n",
    "\n",
    "- Type `M` to change `code` mode into `markdown` mode\n",
    "- Type `Y` to change `markdown` mode into `code` mode"
   ]
  },
  {
   "cell_type": "code",
   "execution_count": null,
   "metadata": {},
   "outputs": [],
   "source": [
    "```\n",
    "print(\"I should be in Markdown mode. Type `M` to change me to markdown. Then type `shift` + `enter` to see the proper markkup\")\n",
    "```"
   ]
  },
  {
   "cell_type": "markdown",
   "metadata": {},
   "source": [
    "print(\"I should be code. Select me and then type `Y` to change me to `code` mode`\")"
   ]
  },
  {
   "cell_type": "markdown",
   "metadata": {},
   "source": [
    "<hr style=\"border:2px solid gray\"> </hr>\n",
    "\n",
    "## under construction"
   ]
  },
  {
   "cell_type": "markdown",
   "metadata": {},
   "source": [
    "<hr style=\"border:2px solid gray\"> </hr>\n",
    "\n",
    "### Edit Mode\n",
    "\n",
    "Use the `cmd` + `click` to quickly change all occurences of `variable_x` to `var_x`"
   ]
  },
  {
   "cell_type": "code",
   "execution_count": null,
   "metadata": {},
   "outputs": [],
   "source": [
    "variable_a = 1\n",
    "variable_b = variable_a*2\n",
    "variable_c = variable_a + variable_b"
   ]
  },
  {
   "cell_type": "markdown",
   "metadata": {},
   "source": [
    "Use `option` + `hold click` for column editing to easily indent each of the following `linex_fix_indent`s"
   ]
  },
  {
   "cell_type": "code",
   "execution_count": null,
   "metadata": {},
   "outputs": [],
   "source": [
    "def my_func():\n",
    "line1_fix_indent\n",
    "line2_fix_indent\n",
    "line3_fix_indent\n",
    "line4_fix_indent\n",
    "line5_fix_indent\n",
    "line6_fix_indent\n",
    "line7_fix_indent\n",
    "line8_fix_indent"
   ]
  },
  {
   "cell_type": "markdown",
   "metadata": {},
   "source": [
    "___\n",
    "Select the entire text in the next cell and click `cmd` + `/` to toggle comment lines"
   ]
  },
  {
   "cell_type": "code",
   "execution_count": null,
   "metadata": {},
   "outputs": [],
   "source": [
    "print(\"this\")\n",
    "print(\"is\")\n",
    "print(\"a big\")\n",
    "print(\"block of\")\n",
    "print(\"text to comment\")"
   ]
  },
  {
   "cell_type": "markdown",
   "metadata": {},
   "source": [
    "<hr style=\"border:2px solid gray\"> </hr>\n",
    "\n",
    "### Suggestion for completion\n",
    "\n",
    "Run the next cell to import numpy and then put your cursor next to the `np.` in the following cell. Then, press `tab` to see what code completions are available"
   ]
  },
  {
   "cell_type": "code",
   "execution_count": null,
   "metadata": {},
   "outputs": [],
   "source": [
    "import numpy as np"
   ]
  },
  {
   "cell_type": "code",
   "execution_count": null,
   "metadata": {},
   "outputs": [],
   "source": [
    "np."
   ]
  },
  {
   "cell_type": "markdown",
   "metadata": {},
   "source": [
    "Put your cursor between the `()` in the `np.arange()` code below. Then press `shift` + `tab` to get the tooltip"
   ]
  },
  {
   "cell_type": "code",
   "execution_count": null,
   "metadata": {},
   "outputs": [],
   "source": [
    "np.arange()"
   ]
  },
  {
   "cell_type": "markdown",
   "metadata": {},
   "source": [
    "<hr style=\"border:2px solid gray\"> </hr>\n",
    "\n",
    "Use `ctrl` + `shift` + `-` split the following cell between the two functions"
   ]
  },
  {
   "cell_type": "code",
   "execution_count": null,
   "metadata": {},
   "outputs": [],
   "source": [
    "def func1():\n",
    "    print(\"I'm func1. Separate me from func2\")\n",
    "    \n",
    "def func2():\n",
    "    print(\"I'm \")"
   ]
  },
  {
   "cell_type": "markdown",
   "metadata": {},
   "source": [
    "#### Command Palette\n",
    "\n",
    "`cmd` + `shift` + `p`\n",
    "\n",
    "Want quick access to all the commands in Jupyter Notebooks? Open the command palette with `cmd` + `shift` + `p` and you'll quickly be able to search all the commands!"
   ]
  },
  {
   "cell_type": "markdown",
   "metadata": {},
   "source": []
  }
 ],
 "metadata": {
  "kernelspec": {
   "display_name": "Python 3",
   "language": "python",
   "name": "python3"
  },
  "language_info": {
   "codemirror_mode": {
    "name": "ipython",
    "version": 3
   },
   "file_extension": ".py",
   "mimetype": "text/x-python",
   "name": "python",
   "nbconvert_exporter": "python",
   "pygments_lexer": "ipython3",
   "version": "3.7.7"
  }
 },
 "nbformat": 4,
 "nbformat_minor": 1
}
